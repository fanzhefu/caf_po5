{
 "cells": [
  {
   "cell_type": "markdown",
   "id": "2f4b733a",
   "metadata": {},
   "source": [
    "# 6 Class"
   ]
  },
  {
   "cell_type": "code",
   "execution_count": 2,
   "id": "285e662c",
   "metadata": {},
   "outputs": [
    {
     "name": "stdout",
     "output_type": "stream",
     "text": [
      "0\n"
     ]
    }
   ],
   "source": [
    "class NewClass:\n",
    "    x = 0\n",
    "    \n",
    "obj1 = NewClass()\n",
    "print(obj1.x)"
   ]
  },
  {
   "cell_type": "code",
   "execution_count": 15,
   "id": "8c8bd287",
   "metadata": {},
   "outputs": [
    {
     "name": "stdout",
     "output_type": "stream",
     "text": [
      "0 : 0 : 0\n",
      "3 : 5 : 7\n",
      "6 : 2 : 9\n",
      "10 : 0 : 0\n"
     ]
    }
   ],
   "source": [
    "# constructor  __init__(self)\n",
    "class Time:\n",
    "    def __init__(self):\n",
    "        self.hr=0\n",
    "        self.min=0\n",
    "        self.sec=0\n",
    "    def myTime(self, hr, min, sec):\n",
    "        self.hr=hr\n",
    "        self.min=min\n",
    "        self.sec=sec\n",
    "    def showTime(self):\n",
    "        print(self.hr,':',self.min,':',self.sec)\n",
    "\n",
    "objtime = Time()       \n",
    "objtime.showTime()\n",
    "objtime.myTime(3,5,7)       \n",
    "objtime.showTime()\n",
    "obj1 = Time()\n",
    "obj1.myTime(6,2,9)   \n",
    "obj2 = Time()\n",
    "obj2.myTime(10,0,0)   \n",
    "obj1.showTime()\n",
    "obj2.showTime()"
   ]
  },
  {
   "cell_type": "code",
   "execution_count": 88,
   "id": "63ca4430",
   "metadata": {},
   "outputs": [
    {
     "name": "stdout",
     "output_type": "stream",
     "text": [
      "Zhefu\n",
      "Hunter\n",
      "44\n"
     ]
    }
   ],
   "source": [
    "class Human:\n",
    "    def __init__(self, name, occupation, age):\n",
    "        self.name=name\n",
    "        self.occupation=occupation\n",
    "        self.age=age\n",
    "        \n",
    "p1 =Human(\"Zhefu\",'Hunter',44)\n",
    "print(p1.name)\n",
    "print(p1.occupation)\n",
    "print(p1.age)"
   ]
  },
  {
   "cell_type": "code",
   "execution_count": 91,
   "id": "58441ff3",
   "metadata": {},
   "outputs": [
    {
     "name": "stdout",
     "output_type": "stream",
     "text": [
      "Elephant Elly 10 Grey\n",
      "Dog Wolf 9 Yellow\n",
      "Cat Miow 8 Black\n",
      "Lion Eric 7 Rouge\n"
     ]
    }
   ],
   "source": [
    "class Animal:\n",
    "    def __init__(self,type,name,age,color):\n",
    "        self.type=type\n",
    "        self.name=name\n",
    "        self.age=age\n",
    "        self.color=color\n",
    "        \n",
    "animal1 = Animal('Elephant','Elly',10,'Grey')\n",
    "print(animal1.type, animal1.name, animal1.age, animal1.color)\n",
    "animal2 = Animal('Dog', 'Wolf', 9, 'Yellow')\n",
    "print(animal2.type, animal2.name, animal2.age, animal2.color)\n",
    "animal3 = Animal('Cat', 'Miow', 8, 'Black')\n",
    "print(animal3.type, animal3.name, animal3.age, animal3.color)\n",
    "animal4 = Animal('Lion', 'Eric', 7, 'Rouge')\n",
    "print(animal4.type, animal4.name, animal4.age, animal4.color)\n"
   ]
  },
  {
   "cell_type": "code",
   "execution_count": 31,
   "id": "9bffe7cd",
   "metadata": {},
   "outputs": [
    {
     "name": "stdout",
     "output_type": "stream",
     "text": [
      "Zhefu\n",
      "SC-1\n",
      "Science\n"
     ]
    }
   ],
   "source": [
    "class Student:\n",
    "    def __init__(self,name,class_name,stream_study):\n",
    "        self.name=name\n",
    "        self.class_name=class_name\n",
    "        self.stream_study=stream_study\n",
    "        \n",
    "stuObj =Student(\"Zhefu\",'SC-1','Science')\n",
    "print(stuObj.name)\n",
    "print(stuObj.class_name)\n",
    "print(stuObj.stream_study)"
   ]
  },
  {
   "cell_type": "code",
   "execution_count": 93,
   "id": "41dcceb4",
   "metadata": {},
   "outputs": [
    {
     "name": "stdout",
     "output_type": "stream",
     "text": [
      "Yes, I finished watching The Squid Game and it has a 5 star ranking\n"
     ]
    }
   ],
   "source": [
    "class WebSeries:\n",
    "    def __init__(self,title,ranking):\n",
    "        self.title = title\n",
    "        self.ranking = ranking\n",
    "    def watch(self):\n",
    "        print(\"Yes, I finished watching\",self.title, 'and it has a', self.ranking, 'star ranking')\n",
    "        \n",
    "web1 = WebSeries('The Squid Game', '5')\n",
    "web1.watch()"
   ]
  },
  {
   "cell_type": "code",
   "execution_count": 115,
   "id": "a6f0919d",
   "metadata": {},
   "outputs": [
    {
     "name": "stdout",
     "output_type": "stream",
     "text": [
      "Zhefu\n",
      "Science\n",
      "100\n",
      "Employee's name: Zhefu, Employee's department: Science, Employee's salary: 100\n",
      "Total number of emploees: 1\n",
      ": 1\n",
      "\n",
      "Fan\n",
      "Engineering\n",
      "200\n",
      "Employee's name: Fan, Employee's department: Engineering, Employee's salary: 200\n",
      "Total number of emploees: 2\n",
      ": 2\n",
      "\n",
      "Qian\n",
      "Accounting\n",
      "400\n",
      "Employee's name: Qian, Employee's department: Accounting, Employee's salary: 400\n",
      "Total number of emploees: 3\n",
      ": 3\n",
      "########################## \n",
      "3\n"
     ]
    }
   ],
   "source": [
    "#no need to call the parameter as self\n",
    "# deleting an object\n",
    "# del obj\n",
    "class Employee:\n",
    "    count = 0\n",
    "    def __init__(self,name,department,salary):\n",
    "        self.name = name\n",
    "        self.department = department\n",
    "        self.salary = salary\n",
    "        Employee.count += 1\n",
    "        \n",
    "#     def __del__(self):\n",
    "#         Employee.count -= 1\n",
    "    # Calling __delete__\n",
    "    def __delete__(self, instance):\n",
    "        print (\"Deleted in Example object.\")\n",
    "        Employee.count -= 1\n",
    "          \n",
    "    def show_emp_count(self):\n",
    "        print(\"Total number of emploees:\", Employee.count)\n",
    "        \n",
    "    def show_emp(self):\n",
    "#       print(\"Employee's name:\", self.name, \"Employee's department:\",  \"Employee's salary:\", self.salary)    \n",
    "        print(\"Employee's name: {}, Employee's department: {}, Employee's salary: {}\".format(self.name, self.department, self.salary))    \n",
    "   \n",
    "        \n",
    "employee1 =Employee('Zhefu','Science',100)\n",
    "print(employee1.name)\n",
    "print(employee1.department)\n",
    "print(employee1.salary)\n",
    "employee1.show_emp()\n",
    "employee1.show_emp_count()\n",
    "print(\":\",Employee.count)\n",
    "print()\n",
    "\n",
    "employee2 =Employee(\"Fan\",'Engineering',200)\n",
    "print(employee2.name)\n",
    "print(employee2.department)\n",
    "print(employee2.salary)\n",
    "employee2.show_emp()\n",
    "employee2.show_emp_count()\n",
    "print(\":\",Employee.count)\n",
    "print()\n",
    "\n",
    "employee3 =Employee(\"Qian\",'Accounting',400)\n",
    "print(employee3.name)\n",
    "print(employee3.department)\n",
    "print(employee3.salary)\n",
    "employee3.show_emp()\n",
    "employee3.show_emp_count()\n",
    "print(\":\",Employee.count)\n",
    "print('########################## ')\n",
    "\n",
    "del employee2\n",
    "print(Employee.count)\n",
    "# print(employee2)\n",
    "# print(employee2.show_emp())\n"
   ]
  },
  {
   "cell_type": "code",
   "execution_count": 104,
   "id": "7e0e14dd",
   "metadata": {},
   "outputs": [
    {
     "name": "stdout",
     "output_type": "stream",
     "text": [
      "Introcudtion to Python\n",
      "Cyber Security\n"
     ]
    }
   ],
   "source": [
    "# Inheritance \n",
    "#base class\n",
    "class SoftwareTools:\n",
    "    def __init__(self,subName):\n",
    "        self.subName = subName\n",
    "        \n",
    "    def subject(self):\n",
    "        print(self.subName)\n",
    "        \n",
    "#overwrited class\n",
    "class Willis(SoftwareTools):\n",
    "    def __init__(self, subName, cyberSec):\n",
    "        super().__init__(subName)\n",
    "        self.cyberSec = cyberSec\n",
    "        \n",
    "    def new_subject(self):\n",
    "        print(self.cyberSec)\n",
    "        \n",
    "x = Willis(\"Introcudtion to Python\", 'Cyber Security')\n",
    "x.subject()\n",
    "x.new_subject()"
   ]
  },
  {
   "cell_type": "code",
   "execution_count": 79,
   "id": "4ac8908f",
   "metadata": {},
   "outputs": [
    {
     "name": "stdout",
     "output_type": "stream",
     "text": [
      "The number of departments in the college: 7\n",
      "Accounting\n"
     ]
    }
   ],
   "source": [
    "class College:\n",
    "    def __init__(self,noOfDep):\n",
    "        self.noOfDep = noOfDep\n",
    "        \n",
    "    def show_dep(self):\n",
    "        print(\"The number of departments in the college:\",self.noOfDep)\n",
    "        \n",
    "#overwrited class\n",
    "class Department(College):\n",
    "    def __init__(self, noOfDep, depName):\n",
    "        super().__init__(noOfDep)\n",
    "        self.depName = depName\n",
    "        \n",
    "    def show_dep_name(self):\n",
    "        print(self.depName)\n",
    "        \n",
    "obj1 = Department('7','Accounting')\n",
    "obj1.show_dep()\n",
    "obj1.show_dep_name()"
   ]
  },
  {
   "cell_type": "code",
   "execution_count": 94,
   "id": "d168c7c6",
   "metadata": {},
   "outputs": [
    {
     "name": "stdout",
     "output_type": "stream",
     "text": [
      "The specs of the mobile are:s ASDR1234 2002\n",
      "Pending\n",
      "White\n"
     ]
    }
   ],
   "source": [
    "class Mobile:    \n",
    "    def __init__(self, model, year):\n",
    "        self.model = model\n",
    "        self.year = year\n",
    "        \n",
    "    def showmob(self):\n",
    "        print(\"The specs of the mobile are:s\",self.model,self.year)\n",
    "        \n",
    "#overwrited class\n",
    "class IOS(Mobile):\n",
    "    def __init__(self, model, year, softup):\n",
    "        super().__init__(model, year)\n",
    "        self.softup = softup\n",
    "        \n",
    "    def showios(self):\n",
    "        print(self.softup)\n",
    "\n",
    "class Apple(IOS):\n",
    "    def __init__(self, model, year, softup, color):\n",
    "        super().__init__(model, year, softup)\n",
    "        self.color = color\n",
    "        \n",
    "    def showcolor(self):\n",
    "        print(self.color)\n",
    "        \n",
    "obj1 = Apple(\"ASDR1234\", '2002', 'Pending', 'White')\n",
    "obj1.showmob()\n",
    "obj1.showios()\n",
    "obj1.showcolor()"
   ]
  },
  {
   "cell_type": "markdown",
   "id": "14fdf8a5",
   "metadata": {},
   "source": [
    "# 7 list, tuple, dinationay "
   ]
  },
  {
   "cell_type": "code",
   "execution_count": 116,
   "id": "50e0ad70",
   "metadata": {},
   "outputs": [
    {
     "name": "stdout",
     "output_type": "stream",
     "text": [
      "[2, 3]\n"
     ]
    }
   ],
   "source": [
    "#list, -- mutable\n",
    "lst = []\n",
    "lst = [1,2,3]\n",
    "lst = [1,2,3,'Four', 'Digits']\n",
    "#slicing\n",
    "print(lst[1:3])"
   ]
  },
  {
   "cell_type": "code",
   "execution_count": 150,
   "id": "b45d8106",
   "metadata": {},
   "outputs": [
    {
     "name": "stdout",
     "output_type": "stream",
     "text": [
      "['English', 'Math', 'Computer', 'French']\n",
      "['Math', 'Computer']\n",
      "['French', 'Computer', 'Math', 'English']\n"
     ]
    }
   ],
   "source": [
    "lectures=['English','Math','Computer','French']\n",
    "print(lectures)\n",
    "print(lectures[1:3])\n",
    "print(lectures[::-1])\n",
    "# start, end, step"
   ]
  },
  {
   "cell_type": "code",
   "execution_count": 120,
   "id": "85204383",
   "metadata": {},
   "outputs": [
    {
     "name": "stdout",
     "output_type": "stream",
     "text": [
      "['is', 'a']\n",
      "['placed', 'inside', 'a']\n",
      "['a', 'sting', ':)']\n",
      "['This', 'is', 'a', 'string', 'that', 'is']\n"
     ]
    }
   ],
   "source": [
    "testing_list=['This','is','a','string','that','is','placed','inside','a','sting',':)']\n",
    "#Try these syntaxes for the given list and its elemnts\n",
    "print(testing_list[1:3])\n",
    "print(testing_list[6:9])\n",
    "print(testing_list[8:])\n",
    "print(testing_list[:6])"
   ]
  },
  {
   "cell_type": "code",
   "execution_count": 131,
   "id": "2701743f",
   "metadata": {},
   "outputs": [
    {
     "name": "stdout",
     "output_type": "stream",
     "text": [
      "[1, 2, 3, 4, 5]\n",
      "[1, 2, 3, 4, 5, 6]\n",
      "[1, 2, 4, 5, 6]\n",
      "[6, 5, 4, 2, 1]\n"
     ]
    }
   ],
   "source": [
    "#range(), append(), delete(), reverse()\n",
    "lst = list(range(1,6))\n",
    "print(lst)\n",
    "lst.append(6)\n",
    "print(lst)\n",
    "del lst[2]\n",
    "print(lst)\n",
    "lst.reverse()\n",
    "print(lst)"
   ]
  },
  {
   "cell_type": "code",
   "execution_count": 135,
   "id": "3d0a094a",
   "metadata": {},
   "outputs": [
    {
     "name": "stdout",
     "output_type": "stream",
     "text": [
      "(1, 2, 3, 4)\n",
      "[1, 2, 3, 'Four', 'Digits']\n"
     ]
    }
   ],
   "source": [
    "#tuples -- immutable\n",
    "tpl1 = ()\n",
    "tpl2 = (1,2,3)\n",
    "tpl3 = (1,2,3,'Four', 'Digits')\n",
    "lst1=[1,2,3,4]\n",
    "tpl4=tuple(lst1)\n",
    "print(tpl4)\n",
    "lst2 = list(tpl3)\n",
    "print(lst2)"
   ]
  },
  {
   "cell_type": "code",
   "execution_count": 136,
   "id": "a5909f8c",
   "metadata": {},
   "outputs": [
    {
     "ename": "SyntaxError",
     "evalue": "invalid syntax (3827609911.py, line 1)",
     "output_type": "error",
     "traceback": [
      "\u001b[1;36m  Input \u001b[1;32mIn [136]\u001b[1;36m\u001b[0m\n\u001b[1;33m    months = ('Jan','Feb','Mar,'Apr','May','Jun','Jul')\u001b[0m\n\u001b[1;37m                                ^\u001b[0m\n\u001b[1;31mSyntaxError\u001b[0m\u001b[1;31m:\u001b[0m invalid syntax\n"
     ]
    }
   ],
   "source": [
    "months = ('Jan','Feb','Mar,'Apr','May','Jun','Jul')\n",
    "months[1]='Aug'"
   ]
  },
  {
   "cell_type": "code",
   "execution_count": 141,
   "id": "65affae5",
   "metadata": {},
   "outputs": [
    {
     "data": {
      "text/plain": [
       "[1, 2, 3, 4]"
      ]
     },
     "execution_count": 141,
     "metadata": {},
     "output_type": "execute_result"
    }
   ],
   "source": [
    "# sort(), append(), reverse() on tuple ?\n",
    "tpl=(1,2,3,4)\n",
    "# tpl.sort()\n",
    "# tpl.append()\n",
    "# tpl.reverse()\n",
    "# but sorted()\n",
    "sorted(tpl)"
   ]
  },
  {
   "cell_type": "code",
   "execution_count": 142,
   "id": "1b7cc24f",
   "metadata": {},
   "outputs": [
    {
     "name": "stdout",
     "output_type": "stream",
     "text": [
      "100 200 300\n"
     ]
    }
   ],
   "source": [
    "(m,n,o)=(100,200,300)\n",
    "print(m,n,o)"
   ]
  },
  {
   "cell_type": "code",
   "execution_count": 146,
   "id": "49881eba",
   "metadata": {},
   "outputs": [
    {
     "name": "stdout",
     "output_type": "stream",
     "text": [
      "{'name': 'Fan', 'age': 27, 'phone': '123456789'}\n",
      "{'name': 'Fan', 'age': 27, 'phone': '123456789', 'subjcet': 'English'}\n",
      "Fan\n"
     ]
    }
   ],
   "source": [
    "# Dictionay -- unordered collection of items\n",
    "# key retrives the value\n",
    "dct={'name':'Fan','age':27,'phone':'123456789',}\n",
    "print(dct)\n",
    "dct['subjcet']='English'\n",
    "print(dct)\n",
    "print(dct['name'])"
   ]
  },
  {
   "cell_type": "code",
   "execution_count": 208,
   "id": "1c9b935f",
   "metadata": {},
   "outputs": [
    {
     "name": "stdout",
     "output_type": "stream",
     "text": [
      "{}\n",
      "{'int1': 1, 'int2': 2, 'weather': 'snow', 'temp': -20.5, 1: 'Python'}\n",
      "\n",
      "{'name': 'Donal Trump', 'age': 64, 'address': 'Canada'}\n",
      "\n",
      "{}\n",
      "{10: {}}\n",
      "{}\n",
      "{10: {20: {}}}\n",
      "{}\n",
      "{10: {20: {30: {}}}}\n",
      "{}\n",
      "{10: {20: {30: {40: {}}}}}\n",
      "{}\n",
      "{10: {20: {30: {40: {50: {}}}}}}\n"
     ]
    }
   ],
   "source": [
    "#1\n",
    "dct1={}\n",
    "print(dct1)\n",
    "dct1={'int1':1,'int2':2,'weather':'snow','temp':-20.5}\n",
    "dct1[1]=\"Python\"\n",
    "print(dct1)\n",
    "print()\n",
    "\n",
    "#2\n",
    "dct2={'name':'Donald','age':64}\n",
    "\n",
    "#3\n",
    "dct3={'name':'Donald','age':64}\n",
    "dct3['address']='Canada'\n",
    "dct3['name']='Donal Trump'\n",
    "print(dct3)\n",
    "print()\n",
    "\n",
    "# 4 \n",
    "lst = [10,20,30,40,50]\n",
    "dct1 = dct2 = {}\n",
    "for x in lst:\n",
    "    dct2[x]={}\n",
    "    dct2 = dct2[x]\n",
    "    print(dct2)\n",
    "    print(dct1)"
   ]
  },
  {
   "cell_type": "code",
   "execution_count": 209,
   "id": "65d84ebd",
   "metadata": {},
   "outputs": [
    {
     "name": "stdout",
     "output_type": "stream",
     "text": [
      "Choise the correct option:\n",
      "    1. Look up a word\n",
      "    2. Add\n",
      "    3. Edit\n",
      "    4. Delete\n",
      "    5. Exit\n",
      "Please select:1\n",
      "What's the word that you are looking for?dog\n",
      "Not found\n",
      "\n",
      "Choise the correct option:\n",
      "    1. Look up a word\n",
      "    2. Add\n",
      "    3. Edit\n",
      "    4. Delete\n",
      "    5. Exit\n",
      "Please select:6\n",
      "Your input is invalid\n",
      "Choise the correct option:\n",
      "    1. Look up a word\n",
      "    2. Add\n",
      "    3. Edit\n",
      "    4. Delete\n",
      "    5. Exit\n",
      "Please select:5\n"
     ]
    }
   ],
   "source": [
    "#mini dictionary project\n",
    "\n",
    "mini_dict = {'Apple':'A red colored fruit',\n",
    "            'Cap':'Spmething that we wear on our head',\n",
    "            'Books':'We read them and gain knowledge',\n",
    "            'Mall':'A place to enjoy and shop'}\n",
    "\n",
    "loop = True\n",
    "while loop:\n",
    "    print('''Choise the correct option:\n",
    "    1. Look up a word\n",
    "    2. Add\n",
    "    3. Edit\n",
    "    4. Delete\n",
    "    5. Exit''')\n",
    "    choise = input(\"Please select:\")\n",
    "    if choise == '5':\n",
    "        loop = False\n",
    "    elif choise == '1':\n",
    "        answer = input(\"What's the word that you are looking for?\")\n",
    "        found = False\n",
    "        for key, value in mini_dict.items():\n",
    "            if answer.lower() in key.lower():\n",
    "                found = True\n",
    "                print(\"The meaning of\",key,'is:', value)\n",
    "        if not found:\n",
    "            print(\"Not found\")\n",
    "        print()\n",
    "    elif choise == '2':\n",
    "        answer = input(\"What's the word that you are adding?\")\n",
    "        meaning = input(\"Input the meaning of the word that you are adding?\")\n",
    "        mini_dict[answer] = meaning\n",
    "        print(answer, meaning, 'added into the mini dict')\n",
    "        print()\n",
    "    elif choise == '3':\n",
    "        answer = input(\"What's the word that you want to edit?\")\n",
    "        meaning = input(\"Input the meaning of the word that you want to edit?\")\n",
    "        mini_dict[answer] = meaning\n",
    "        print(answer, meaning, 'updated in the mini dict')\n",
    "        print()\n",
    "    elif choise == '4':\n",
    "        answer = input(\"What's the word that you want to delete?\")\n",
    "        try:\n",
    "            del mini_dict[answer]\n",
    "            print(answer, 'is deleted in the mini dict')\n",
    "        except KeyError:\n",
    "            print(\"No word:\",answer, \"in this mini dict\") \n",
    "        print()\n",
    "    else:\n",
    "        print(\"Your input is invalid\")"
   ]
  },
  {
   "cell_type": "code",
   "execution_count": 204,
   "id": "14fe6202",
   "metadata": {},
   "outputs": [
    {
     "data": {
      "text/plain": [
       "'\\nprint([value for key, value in mini_dict.items() if \\'dog\\' in key.lower() else \\'Not found\\']) \\n\\ndictionary = {\\'george\\': 16, \\'amber\\': 19}\\nsearch_age = input(\"Provide age\")\\nfor name, age in dictionary.items():  # for name, age in dictionary.iteritems():  (for Python 2.x)\\n    if age == search_age:\\n        print(name)\\n'"
      ]
     },
     "execution_count": 204,
     "metadata": {},
     "output_type": "execute_result"
    }
   ],
   "source": [
    "'''\n",
    "print([value for key, value in mini_dict.items() if 'dog' in key.lower() else 'Not found']) \n",
    "\n",
    "dictionary = {'george': 16, 'amber': 19}\n",
    "search_age = input(\"Provide age\")\n",
    "for name, age in dictionary.items():  # for name, age in dictionary.iteritems():  (for Python 2.x)\n",
    "    if age == search_age:\n",
    "        print(name)\n",
    "'''"
   ]
  },
  {
   "cell_type": "markdown",
   "id": "4b309ab9",
   "metadata": {},
   "source": [
    "# 8 Tkinter"
   ]
  },
  {
   "cell_type": "code",
   "execution_count": 212,
   "id": "38fcea72",
   "metadata": {},
   "outputs": [],
   "source": [
    "from tkinter import *\n",
    "exam1 = Frame()\n",
    "exam1.mainloop()"
   ]
  },
  {
   "cell_type": "code",
   "execution_count": 91,
   "id": "a73a0028",
   "metadata": {},
   "outputs": [
    {
     "ename": "KeyboardInterrupt",
     "evalue": "",
     "output_type": "error",
     "traceback": [
      "\u001b[1;31m---------------------------------------------------------------------------\u001b[0m",
      "\u001b[1;31mKeyboardInterrupt\u001b[0m                         Traceback (most recent call last)",
      "Input \u001b[1;32mIn [91]\u001b[0m, in \u001b[0;36m<module>\u001b[1;34m\u001b[0m\n\u001b[0;32m      5\u001b[0m         Frame\u001b[38;5;241m.\u001b[39m\u001b[38;5;21m__init__\u001b[39m(\u001b[38;5;28mself\u001b[39m)\n\u001b[0;32m      7\u001b[0m exam2 \u001b[38;5;241m=\u001b[39m FirstFrame()\n\u001b[1;32m----> 8\u001b[0m \u001b[43mexam2\u001b[49m\u001b[38;5;241;43m.\u001b[39;49m\u001b[43mmainloop\u001b[49m\u001b[43m(\u001b[49m\u001b[43m)\u001b[49m\n",
      "File \u001b[1;32mC:\\Anaconda3\\lib\\tkinter\\__init__.py:1429\u001b[0m, in \u001b[0;36mMisc.mainloop\u001b[1;34m(self, n)\u001b[0m\n\u001b[0;32m   1427\u001b[0m \u001b[38;5;28;01mdef\u001b[39;00m \u001b[38;5;21mmainloop\u001b[39m(\u001b[38;5;28mself\u001b[39m, n\u001b[38;5;241m=\u001b[39m\u001b[38;5;241m0\u001b[39m):\n\u001b[0;32m   1428\u001b[0m     \u001b[38;5;124;03m\"\"\"Call the mainloop of Tk.\"\"\"\u001b[39;00m\n\u001b[1;32m-> 1429\u001b[0m     \u001b[38;5;28;43mself\u001b[39;49m\u001b[38;5;241;43m.\u001b[39;49m\u001b[43mtk\u001b[49m\u001b[38;5;241;43m.\u001b[39;49m\u001b[43mmainloop\u001b[49m\u001b[43m(\u001b[49m\u001b[43mn\u001b[49m\u001b[43m)\u001b[49m\n",
      "\u001b[1;31mKeyboardInterrupt\u001b[0m: "
     ]
    }
   ],
   "source": [
    "from tkinter import *\n",
    "\n",
    "class FirstFrame(Frame):\n",
    "    def __init__(self):\n",
    "        Frame.__init__(self)\n",
    "            \n",
    "exam2 = FirstFrame()\n",
    "exam2.mainloop()\n"
   ]
  },
  {
   "cell_type": "code",
   "execution_count": 220,
   "id": "6c2059af",
   "metadata": {},
   "outputs": [],
   "source": [
    "# widgets: canvas, text, button, label\n",
    "#self.newCanvas=Canvas()\n",
    "#self.newCanvas.grid()\n",
    "from tkinter import *\n",
    "\n",
    "class FirstFrame(Frame):\n",
    "    def __init__(self):\n",
    "        Frame.__init__(self)\n",
    "        self.newCanvas=Canvas(width=500,height=700,bg='red')\n",
    "        self.newCanvas.grid()\n",
    "        \n",
    "exam2 = FirstFrame()\n",
    "exam2.mainloop()\n"
   ]
  },
  {
   "cell_type": "code",
   "execution_count": 237,
   "id": "cfe2f19c",
   "metadata": {},
   "outputs": [],
   "source": [
    "from tkinter import *\n",
    "\n",
    "class FirstFrame(Frame):\n",
    "    def __init__(self):\n",
    "        Frame.__init__(self)\n",
    "        self.newCanvas=Canvas(width=200,height=450,bg='yellow')\n",
    "        self.newCanvas.grid()\n",
    "        self.newCanvas.create_rectangle(20,20,70,70)\n",
    "        \n",
    "exam2 = FirstFrame()\n",
    "exam2.mainloop()\n"
   ]
  },
  {
   "cell_type": "code",
   "execution_count": 235,
   "id": "2490121e",
   "metadata": {},
   "outputs": [
    {
     "ename": "KeyboardInterrupt",
     "evalue": "",
     "output_type": "error",
     "traceback": [
      "\u001b[1;31m---------------------------------------------------------------------------\u001b[0m",
      "\u001b[1;31mKeyboardInterrupt\u001b[0m                         Traceback (most recent call last)",
      "Input \u001b[1;32mIn [235]\u001b[0m, in \u001b[0;36m<module>\u001b[1;34m\u001b[0m\n\u001b[0;32m     10\u001b[0m         \u001b[38;5;28mself\u001b[39m\u001b[38;5;241m.\u001b[39mnewCanvas\u001b[38;5;241m.\u001b[39mcreate_rectangle(\u001b[38;5;241m20\u001b[39m,\u001b[38;5;241m20\u001b[39m,\u001b[38;5;241m70\u001b[39m,\u001b[38;5;241m70\u001b[39m, outline\u001b[38;5;241m=\u001b[39m\u001b[38;5;124m'\u001b[39m\u001b[38;5;124mred\u001b[39m\u001b[38;5;124m'\u001b[39m,fill\u001b[38;5;241m=\u001b[39m\u001b[38;5;124m'\u001b[39m\u001b[38;5;124mblack\u001b[39m\u001b[38;5;124m'\u001b[39m)\n\u001b[0;32m     12\u001b[0m exam2 \u001b[38;5;241m=\u001b[39m FirstFrame()\n\u001b[1;32m---> 13\u001b[0m \u001b[43mexam2\u001b[49m\u001b[38;5;241;43m.\u001b[39;49m\u001b[43mmainloop\u001b[49m\u001b[43m(\u001b[49m\u001b[43m)\u001b[49m\n",
      "File \u001b[1;32mC:\\Anaconda3\\lib\\tkinter\\__init__.py:1429\u001b[0m, in \u001b[0;36mMisc.mainloop\u001b[1;34m(self, n)\u001b[0m\n\u001b[0;32m   1427\u001b[0m \u001b[38;5;28;01mdef\u001b[39;00m \u001b[38;5;21mmainloop\u001b[39m(\u001b[38;5;28mself\u001b[39m, n\u001b[38;5;241m=\u001b[39m\u001b[38;5;241m0\u001b[39m):\n\u001b[0;32m   1428\u001b[0m     \u001b[38;5;124;03m\"\"\"Call the mainloop of Tk.\"\"\"\u001b[39;00m\n\u001b[1;32m-> 1429\u001b[0m     \u001b[38;5;28;43mself\u001b[39;49m\u001b[38;5;241;43m.\u001b[39;49m\u001b[43mtk\u001b[49m\u001b[38;5;241;43m.\u001b[39;49m\u001b[43mmainloop\u001b[49m\u001b[43m(\u001b[49m\u001b[43mn\u001b[49m\u001b[43m)\u001b[49m\n",
      "\u001b[1;31mKeyboardInterrupt\u001b[0m: "
     ]
    }
   ],
   "source": [
    "#place the rectangle in the centre of the canvas\n",
    "#change the background color, width and length of the window as per your own wish\n",
    "from tkinter import *\n",
    "\n",
    "class FirstFrame(Frame):\n",
    "    def __init__(self):\n",
    "        Frame.__init__(self)\n",
    "        self.newCanvas=Canvas(width=200,height=450,bg='yellow')\n",
    "        self.newCanvas.grid()\n",
    "        self.newCanvas.create_rectangle(20,20,70,70, outline='red',fill='black')\n",
    "        \n",
    "exam2 = FirstFrame()\n",
    "exam2.mainloop()"
   ]
  },
  {
   "cell_type": "code",
   "execution_count": 234,
   "id": "cd4ae4b8",
   "metadata": {},
   "outputs": [
    {
     "ename": "KeyboardInterrupt",
     "evalue": "",
     "output_type": "error",
     "traceback": [
      "\u001b[1;31m---------------------------------------------------------------------------\u001b[0m",
      "\u001b[1;31mKeyboardInterrupt\u001b[0m                         Traceback (most recent call last)",
      "Input \u001b[1;32mIn [234]\u001b[0m, in \u001b[0;36m<module>\u001b[1;34m\u001b[0m\n\u001b[0;32m      9\u001b[0m         \u001b[38;5;28mself\u001b[39m\u001b[38;5;241m.\u001b[39mnewCanvas\u001b[38;5;241m.\u001b[39mcreate_oval(\u001b[38;5;241m20\u001b[39m,\u001b[38;5;241m20\u001b[39m,\u001b[38;5;241m70\u001b[39m,\u001b[38;5;241m70\u001b[39m,fill\u001b[38;5;241m=\u001b[39m\u001b[38;5;124m'\u001b[39m\u001b[38;5;124mblack\u001b[39m\u001b[38;5;124m'\u001b[39m)\n\u001b[0;32m     11\u001b[0m exam2 \u001b[38;5;241m=\u001b[39m FirstFrame()\n\u001b[1;32m---> 12\u001b[0m \u001b[43mexam2\u001b[49m\u001b[38;5;241;43m.\u001b[39;49m\u001b[43mmainloop\u001b[49m\u001b[43m(\u001b[49m\u001b[43m)\u001b[49m\n",
      "File \u001b[1;32mC:\\Anaconda3\\lib\\tkinter\\__init__.py:1429\u001b[0m, in \u001b[0;36mMisc.mainloop\u001b[1;34m(self, n)\u001b[0m\n\u001b[0;32m   1427\u001b[0m \u001b[38;5;28;01mdef\u001b[39;00m \u001b[38;5;21mmainloop\u001b[39m(\u001b[38;5;28mself\u001b[39m, n\u001b[38;5;241m=\u001b[39m\u001b[38;5;241m0\u001b[39m):\n\u001b[0;32m   1428\u001b[0m     \u001b[38;5;124;03m\"\"\"Call the mainloop of Tk.\"\"\"\u001b[39;00m\n\u001b[1;32m-> 1429\u001b[0m     \u001b[38;5;28;43mself\u001b[39;49m\u001b[38;5;241;43m.\u001b[39;49m\u001b[43mtk\u001b[49m\u001b[38;5;241;43m.\u001b[39;49m\u001b[43mmainloop\u001b[49m\u001b[43m(\u001b[49m\u001b[43mn\u001b[49m\u001b[43m)\u001b[49m\n",
      "\u001b[1;31mKeyboardInterrupt\u001b[0m: "
     ]
    }
   ],
   "source": [
    "#oval\n",
    "from tkinter import *\n",
    "\n",
    "class FirstFrame(Frame):\n",
    "    def __init__(self):\n",
    "        Frame.__init__(self)\n",
    "        self.newCanvas=Canvas(width=200,height=450,bg='yellow')\n",
    "        self.newCanvas.grid()\n",
    "        self.newCanvas.create_oval(20,20,70,70,fill='black')\n",
    "        \n",
    "exam2 = FirstFrame()\n",
    "exam2.mainloop()"
   ]
  },
  {
   "cell_type": "code",
   "execution_count": null,
   "id": "1238db1a",
   "metadata": {},
   "outputs": [],
   "source": [
    "#round/oval shape\n",
    "from tkinter import *\n",
    "\n",
    "class FirstFrame(Frame):\n",
    "    def __init__(self):\n",
    "        Frame.__init__(self)\n",
    "        self.newCanvas=Canvas(width=200,height=450,bg='yellow')\n",
    "        self.newCanvas.grid()\n",
    "        self.newCanvas.create_rectangle(10,10,200,100, fill='blue')\n",
    "        self.newCanvas.create_oval(10,10,200,100,fill='black')\n",
    "        \n",
    "exam2 = FirstFrame()\n",
    "exam2.mainloop()"
   ]
  },
  {
   "cell_type": "code",
   "execution_count": null,
   "id": "d56a6497",
   "metadata": {},
   "outputs": [],
   "source": [
    "#line shape\n",
    "from tkinter import *\n",
    "\n",
    "class FirstFrame(Frame):\n",
    "    def __init__(self):\n",
    "        Frame.__init__(self)\n",
    "        self.newCanvas=Canvas(width=200,height=450,bg='yellow')\n",
    "        self.newCanvas.grid()\n",
    "        self.newCanvas.create_line(10,10,200,100)\n",
    "        self.newCanvas.create_line(10,10,200,100,arrow='first')# arrow='both'\n",
    "        \n",
    "exam2 = FirstFrame()\n",
    "exam2.mainloop()"
   ]
  },
  {
   "cell_type": "code",
   "execution_count": null,
   "id": "a8c48932",
   "metadata": {},
   "outputs": [],
   "source": [
    "# text\n",
    "#self.newCanvas.create_text(x,y,text=\"Text\")\n",
    "#self.newCanvas.create_text(x,y,text=\"Text\", anchor='nw')\n",
    "from tkinter import *\n",
    "\n",
    "class FirstFrame(Frame):\n",
    "    def __init__(self):\n",
    "        Frame.__init__(self)\n",
    "        self.newCanvas=Canvas(width=200,height=450,bg='yellow')\n",
    "        self.newCanvas.grid()\n",
    "        self.newCanvas.create_line(10,10,200,100)\n",
    "        self.newCanvas.create_line(10,10,200,100,arrow='first')# arrow='both'\n",
    "        self.newCanvas.create_text(x,y,text=\"Text\", anchor='nw',fille='yellow',font=('Times',12))\n",
    "        \n",
    "exam2 = FirstFrame()\n",
    "exam2.mainloop()"
   ]
  },
  {
   "cell_type": "code",
   "execution_count": 238,
   "id": "7f93d9fd",
   "metadata": {},
   "outputs": [],
   "source": [
    "#can you make something like this \n",
    "#solution part 1\n",
    "from tkinter import *from tkinter import *\n",
    "\n",
    "class Design(Frame):\n",
    "    def __init__(self):\n",
    "        Frame.__init__(self)\n",
    "        self.newCanvas=Canvas(width=400,height=400)\n",
    "        self.newCanvas.grid()\n",
    "        \n",
    "        self.newCanvas.create_rectangle(0,0,200,200, fill='blue',outline='blue')\n",
    "        self.newCanvas.create_rectangle(200,0,400,200, fill='red',outline='red')\n",
    "        self.newCanvas.create_rectangle(0,200,200,400, fill='green',outline='green')\n",
    "        self.newCanvas.create_rectangle(200,200,400,400, fill='yellow',outline='yellow')\n",
    "        \n",
    "design1 = Design()\n",
    "design1.mainloop()"
   ]
  },
  {
   "cell_type": "code",
   "execution_count": null,
   "id": "3fddacf8",
   "metadata": {},
   "outputs": [],
   "source": [
    "# face\n",
    "from tkinter import *\n",
    "\n",
    "class Face(Frame):\n",
    "    def __init__(self):\n",
    "        Frame.__init__(self)\n",
    "        self.newCanvas=Canvas(width=400,height=400, bg='gray')\n",
    "        self.newCanvas.grid()\n",
    "        \n",
    "        self.newCanvas.create_oval(100,50,300,200, fill='yellow',outline='yellow')#face\n",
    "        self.newCanvas.create_oval(240,100,260,115, fill='blue',outline='black')#eye\n",
    "        self.newCanvas.create_oval(180,100,160,115, fill='blue',outline='black')#eye\n",
    "        self.newCanvas.create_line(210,120,210,160, fill='green',arrow='last')\n",
    "        self.newCanvas.create_oval(190,180,220,190, fill='red',outline='pink')#mouth\n",
    "        self.newCanvas.create_text(190,250, text='Fan Zhefu\\n范哲夫',font=('Times',30))#name\n",
    "myface = Face()\n",
    "myface.mainloop()\n",
    "\n"
   ]
  },
  {
   "cell_type": "code",
   "execution_count": null,
   "id": "eca008fa",
   "metadata": {},
   "outputs": [],
   "source": [
    "# \n",
    "from tkinter import *\n",
    "\n",
    "c# \n",
    "from tkinter import *\n",
    "\n",
    "class Moon(Frame):\n",
    "    def __init__(self):\n",
    "        Frame.__init__(self)\n",
    "        self.newCanvas=Canvas(width=500,height=700, bg='black')\n",
    "        self.newCanvas.grid()\n",
    "        \n",
    "        self.newCanvas.create_oval(20,20,100,100, fill='white',outline='white')#moon\n",
    "        self.newCanvas.create_oval(100,100,110,110, fill='white',outline='white')#star\n",
    "        self.newCanvas.create_oval(150,150,160,160, fill='white',outline='white')#star\n",
    "        self.newCanvas.create_oval(200,200,260,260, fill='white',outline='white')\n",
    "        self.newCanvas.create_text(190,300, text='moon et star',font=('Times',20),fill='white')#name\n",
    "moon = Moon()\n",
    "moon.mainloop()\n",
    "\n"
   ]
  },
  {
   "cell_type": "code",
   "execution_count": null,
   "id": "25831d12",
   "metadata": {},
   "outputs": [],
   "source": [
    "#activity"
   ]
  },
  {
   "cell_type": "markdown",
   "id": "3ddece15",
   "metadata": {},
   "source": [
    "# 9 Game time: tic-tac-toe"
   ]
  },
  {
   "cell_type": "code",
   "execution_count": null,
   "id": "94930b29",
   "metadata": {},
   "outputs": [],
   "source": [
    "'''\n",
    "0|1|2\n",
    "3|4|5\n",
    "6|7|8\n",
    "Congratulations on reaching this far. You deserve a treat now! You deserve to play a game, but it is not that simple!! In order to have a fun time playing the game, youneed to create one!! Let's creat Tic-Tac-Toe.\n",
    "\n",
    "We will see if you are able to win the game against me.\n",
    "\n",
    "Do not worry.. I will help you.You will make you move by entering a number between 0 - 8. The number will represent the position on the playing board. The board may look similiar to one shown above. I challenge you to beat me!!!!\n",
    "Enter 'yes' if you want to start the game or 'no' for me to start it.\n",
    "'''\n",
    "# yes\n",
    "'''\n",
    "Go ahead..\n",
    "  |  |  \n",
    "  |  |\n",
    "  |  |\n",
    "  select a number of you choice and that will be your block:2\n",
    "  |  |X  \n",
    "  |  |\n",
    "  |  | \n",
    "  My choice is: 4\n",
    "  |  |X  \n",
    "  |O |\n",
    "  |  |  \n",
    "  \n",
    "  select a number of you choice and that will be your block:4\n",
    "  \n",
    "  Choose another block, it's been taken\n",
    "    select a number of you choice and that will be your block:4\n",
    "\n",
    "  O won the game\n",
    "  I knew i!! You cannot win from me\n",
    "  '''"
   ]
  },
  {
   "cell_type": "markdown",
   "id": "0b8a21b5",
   "metadata": {},
   "source": [
    "### algorithm /pseudo code\n",
    "- Create an initial introductory message\n",
    "- Ask if the user wants to begin the game\n",
    "- Ask the number that the user wants to enter in order to begin the game\n",
    "- Finalize the starting player of the game. If you choose start the game, you will be allotted a O ,else an X\n",
    "- Define the steps for your turn (the opponent, in this case you)\n",
    "- Define the steps for my turn(in this case, the computer\n",
    "- Make the board for the plyers and display it for everyone to see\n",
    "- Create a list of moves that are allowed\n",
    "- define the winner of the game and list the moves can make you win the game\n",
    "- Congratulate who so ever wins the game\n",
    "- https://replit.com@DiptiRazdan/Tic-tac-toe?v=1"
   ]
  },
  {
   "cell_type": "code",
   "execution_count": null,
   "id": "8266518e",
   "metadata": {},
   "outputs": [],
   "source": [
    "#Two Player Tic-Tac-Toe game in Python.\n",
    "the_board = {'0':' ', '1':' ', '2':' ',\n",
    "            '3':' ', '4':' ', '5':' ',\n",
    "            '6':' ', '7':' ', '8':' '}\n",
    "board_keys = []\n",
    "\n",
    "def print_board(board):\n",
    "    print(board['0'] + '|' + board['1'] + '|' + board['2'])\n",
    "    #print('-+-+-')\n",
    "    print(board['3'] + '|' + board['4'] + '|' + board['5'])\n",
    "    #print('-+-+-')\n",
    "    print(board['6'] + '|' + board['7'] + '|' + board['8'])\n",
    "\n",
    "\n",
    "for key in the_board:\n",
    "    board_keys.append(key)\n",
    "\n",
    "print_board(the_board)\n",
    "\n",
    "def game():\n",
    "\n",
    "    turn = 'X'\n",
    "    count = 0\n",
    "    \n",
    "    for i in range(10):\n",
    "        print_board(the_board)\n",
    "        print(\"It's your turn,\" + turn + \".Move to which place?\")\n",
    "\n",
    "        move = input()        \n",
    "\n",
    "        if the_board[move] == ' ':\n",
    "            the_board[move] = turn\n",
    "            count += 1\n",
    "        else:\n",
    "            print(\"That place is already filled.\\nMove to which place?\")\n",
    "            continue\n",
    "\n",
    "        # Now we will check if player X or O has won,for every move after 5 moves. \n",
    "        if count >= 5:\n",
    "            if the_board['7'] == the_board['8'] == the_board['9'] != ' ': # across the top\n",
    "                print_board(the_board)\n",
    "                print(\"\\nGame Over.\\n\")                \n",
    "                print(\" **** \" +turn + \" won. ****\")                \n",
    "                break\n",
    "            elif the_board['4'] == the_board['5'] == the_board['6'] != ' ': # across the middle\n",
    "                print_board(the_board)\n",
    "                print(\"\\nGame Over.\\n\")                \n",
    "                print(\" **** \" +turn + \" won. ****\")\n",
    "                break\n",
    "            elif the_board['1'] == the_board['2'] == the_board['3'] != ' ': # across the bottom\n",
    "                print_board(the_board)\n",
    "                print(\"\\nGame Over.\\n\")                \n",
    "                print(\" **** \" +turn + \" won. ****\")\n",
    "                break\n",
    "            elif the_board['1'] == the_board['4'] == the_board['7'] != ' ': # down the left side\n",
    "                print_board(the_board)\n",
    "                print(\"\\nGame Over.\\n\")                \n",
    "                print(\" **** \" +turn + \" won. ****\")\n",
    "                break\n",
    "            elif the_board['2'] == the_board['5'] == the_board['8'] != ' ': # down the middle\n",
    "                print_board(the_board)\n",
    "                print(\"\\nGame Over.\\n\")                \n",
    "                print(\" **** \" +turn + \" won. ****\")\n",
    "                break\n",
    "            elif the_board['3'] == the_board['6'] == the_board['9'] != ' ': # down the right side\n",
    "                print_board(the_board)\n",
    "                print(\"\\nGame Over.\\n\")                \n",
    "                print(\" **** \" +turn + \" won. ****\")\n",
    "                break \n",
    "            elif the_board['7'] == the_board['5'] == the_board['3'] != ' ': # diagonal\n",
    "                print_board(the_board)\n",
    "                print(\"\\nGame Over.\\n\")                \n",
    "                print(\" **** \" +turn + \" won. ****\")\n",
    "                break\n",
    "            elif the_board['1'] == the_board['5'] == the_board['9'] != ' ': # diagonal\n",
    "                print_board(the_board)\n",
    "                print(\"\\nGame Over.\\n\")                \n",
    "                print(\" **** \" +turn + \" won. ****\")\n",
    "                break \n",
    "\n",
    "        # If neither X nor O wins and the board is full, we'll declare the result as 'tie'.\n",
    "        if count == 9:\n",
    "            print(\"\\nGame Over.\\n\")                \n",
    "            print(\"It's a Tie!!\")\n",
    "\n",
    "        # we have to change the player after every move.\n",
    "        if turn =='X':\n",
    "            turn = 'O'\n",
    "        else:\n",
    "            turn = 'X' \n",
    "\n",
    "\n",
    "restart = input(\"Do want to play Again?(y/n)\")\n",
    "if restart == \"y\" or restart == \"Y\":  \n",
    "    for key in board_keys:\n",
    "        the_board[key] = \" \"\n",
    "\n",
    "    game()    \n",
    "        \n",
    "if __name__==\"__main__\":\n",
    "    game()"
   ]
  },
  {
   "cell_type": "code",
   "execution_count": null,
   "id": "b93f3bb1",
   "metadata": {},
   "outputs": [],
   "source": []
  },
  {
   "cell_type": "code",
   "execution_count": null,
   "id": "fa088d4b",
   "metadata": {},
   "outputs": [],
   "source": []
  },
  {
   "cell_type": "code",
   "execution_count": 49,
   "id": "134b1d91",
   "metadata": {},
   "outputs": [
    {
     "name": "stdout",
     "output_type": "stream",
     "text": [
      "\n",
      "Congratulations on reaching this far. You deserve a treat now! You deserve to play a game, but it is not that simple!! In order to have a fun time playing the game, you need to create one!!! Let's creat Tic-Tac-Toe.\n",
      "\n",
      "0|1|2\n",
      "3|4|5\n",
      "6|7|8\n",
      "\n",
      "We will see if you are able to win the game against me.\n",
      "\n",
      "Do not worry... I will help you. You will make you move by entering a number between 0 - 8. The number will represent the position on the playing board. The board may look similiar to one shown above. I challenge you to beat me!!!!\n",
      "\n",
      "Do you want to play again? (Y/N)n\n"
     ]
    }
   ],
   "source": [
    "# -*- coding: utf-8 -*-\n",
    "\"\"\"\n",
    "Created on Wed Feb 23 10:22:57 2022\n",
    "\n",
    "@author: fan.z\n",
    "\"\"\"\n",
    "\n",
    "#Tic Tac Toe game in python: l'odinateur vs Le homme\n",
    "\n",
    "board = [' ' for x in range(9)]\n",
    "#board = [x for x in range(9)]\n",
    "\n",
    "def insert_letter(letter, pos):\n",
    "    board[pos] = letter\n",
    "\n",
    "def is_space_free(pos):\n",
    "    return board[pos] == ' '\n",
    "    #return board[pos] == pos\n",
    "def print_board(board):\n",
    "    #print('   |   |')\n",
    "    print(' ' + board[0] + ' | ' + board[1] + ' | ' + board[2])\n",
    "    # print('   |   |')\n",
    "    # print('-----------')\n",
    "    # print('   |   |')\n",
    "    print(' ' + board[3] + ' | ' + board[4] + ' | ' + board[5])\n",
    "    # print('   |   |')\n",
    "    # print('-----------')\n",
    "    # print('   |   |')\n",
    "    print(' ' + board[6] + ' | ' + board[7] + ' | ' + board[8])\n",
    "    # print('   |   |')\n",
    "    \n",
    "def is_winner(bo, le):\n",
    "    #return (bo[7] == le and bo[8] == le and bo[9] == le) or (bo[4] == le and bo[5] == le and bo[6] == le) or(bo[1] == le and bo[2] == le and bo[3] == le) or(bo[1] == le and bo[4] == le and bo[7] == le) or(bo[2] == le and bo[5] == le and bo[8] == le) or(bo[3] == le and bo[6] == le and bo[9] == le) or(bo[1] == le and bo[5] == le and bo[9] == le) or(bo[3] == le and bo[5] == le and bo[7] == le)\n",
    "    return (bo[6] == le and bo[7] == le and bo[8] == le) or (bo[3] == le and bo[4] == le and bo[5] == le) or(bo[0] == le and bo[1] == le and bo[2] == le) or(bo[0] == le and bo[3] == le and bo[6] == le) or(bo[1] == le and bo[4] == le and bo[7] == le) or(bo[0] == le and bo[5] == le and bo[8] == le) or(bo[0] == le and bo[4] == le and bo[8] == le) or(bo[2] == le and bo[4] == le and bo[6] == le)\n",
    "\n",
    "# for X man \n",
    "def player_move():\n",
    "    run = True\n",
    "    while run:\n",
    "        move = input(\"Select a number of you choice and that will be your block: \\'X\\' (0-8): \")\n",
    "        try:\n",
    "            move = int(move)\n",
    "            if move >= 0 and move <= 8:\n",
    "                if is_space_free(move):\n",
    "                    run = False\n",
    "                    insert_letter('X', move)\n",
    "                else:\n",
    "                    print(\"Choose another block, it's been taken!\")\n",
    "            else:\n",
    "                print('Please type a number within the range(0-8)!')\n",
    "        except:\n",
    "            print('Please type a number(0-8)!')\n",
    "\n",
    "# for Odinateur \n",
    "def select_random(li):\n",
    "    import random\n",
    "    ln = len(li)\n",
    "    r = random.randrange(0,ln)\n",
    "    return li[r]\n",
    "\n",
    "def comp_move():\n",
    "    #possible_moves = [x for x, letter in enumerate(board) if letter == ' ' and x != 0]\n",
    "    possible_moves = [i for i, letter in enumerate(board) if letter == ' ']\n",
    "\n",
    "    move = 0\n",
    "    # find the wining move \n",
    "    for let in ['O', 'X']:\n",
    "        for i in possible_moves:\n",
    "            board_copy = board[:]\n",
    "            board_copy[i] = let\n",
    "            if is_winner(board_copy, let):\n",
    "                move = i\n",
    "                return move\n",
    "    #if four corners 0,2,6,8 are open, do the corner move.\n",
    "    corners_open = []\n",
    "    for i in possible_moves:\n",
    "        if i in [0,2,6,8]:\n",
    "            corners_open.append(i)\n",
    "            \n",
    "    if len(corners_open) > 0:\n",
    "        move = select_random(corners_open)\n",
    "        return move\n",
    "    #centre move\n",
    "    if 4 in possible_moves:\n",
    "        move = 4\n",
    "        return move\n",
    "    #four edges 1,3,5,7 move\n",
    "    edges_open = []\n",
    "    for i in possible_moves:\n",
    "        if i in [1,3,5,7]:\n",
    "            edges_open.append(i)\n",
    "            \n",
    "    if len(edges_open) > 0:\n",
    "        move = select_random(edges_open)\n",
    "        \n",
    "    return move\n",
    "\n",
    "# game on\n",
    "def is_board_full(board):\n",
    "    if board.count(' ') > 1:\n",
    "        return False\n",
    "    else:\n",
    "        return True\n",
    "\n",
    "def main():\n",
    "    print('Welcome to Tic Tac Toe!')\n",
    "    print_board(board)\n",
    "\n",
    "    while not(is_board_full(board)):\n",
    "        if not(is_winner(board, 'O')):\n",
    "            player_move()\n",
    "            print_board(board)\n",
    "        else:\n",
    "            print('Sorry, O\\'s won this time!')\n",
    "            break\n",
    "\n",
    "        if not(is_winner(board, 'X')):\n",
    "            move = comp_move()\n",
    "            if move == 0:\n",
    "                print('Tie Game!')\n",
    "            else:\n",
    "                insert_letter('O', move)\n",
    "                print('Computer placed an \\'O\\' in position', move , ':')\n",
    "                print_board(board)\n",
    "        else:\n",
    "            print('X\\'s won this time! Good Job!')\n",
    "            break\n",
    "\n",
    "    if is_board_full(board):\n",
    "        print('Tie Game!')\n",
    "\n",
    "print('''\n",
    "Congratulations on reaching this far. You deserve a treat now! You deserve to play a game, but it is not that simple!! In order to have a fun time playing the game, you need to create one!!! Let's creat Tic-Tac-Toe.\n",
    "\n",
    "0|1|2\n",
    "3|4|5\n",
    "6|7|8\n",
    "\n",
    "We will see if you are able to win the game against me.\n",
    "\n",
    "Do not worry... I will help you. You will make you move by entering a number between 0 - 8. The number will represent the position on the playing board. The board may look similiar to one shown above. I challenge you to beat me!!!!\n",
    "''')        \n",
    "while True:\n",
    "    answer = input('Do you want to play again? (Y/N)')\n",
    "    if answer.lower() == 'y' or answer.lower == 'yes':\n",
    "        board = [' ' for x in range(9)]\n",
    "        print('-----------------------------------')\n",
    "        main()\n",
    "    else:\n",
    "        break"
   ]
  },
  {
   "cell_type": "code",
   "execution_count": 90,
   "id": "4c7b093b",
   "metadata": {},
   "outputs": [
    {
     "name": "stdout",
     "output_type": "stream",
     "text": [
      "\n",
      "Congratulations on reaching this far. You deserve a treat now! You deserve to play a game, but it is not that simple!! In order to have a fun time playing the game, you need to create one!!! Let's creat Tic-Tac-Toe.\n",
      "\n",
      "0|1|2\n",
      "3|4|5\n",
      "6|7|8\n",
      "\n",
      "We will see if you are able to win the game against me.\n",
      "\n",
      "Do not worry... I will help you. You will make you move by entering a number between 0 - 8. The number will represent the position on the playing board. The board may look similiar to one shown above. I challenge you to beat me!!!!\n",
      "\n",
      "-----------------------------------\n",
      "Welcome to Tic Tac Toe! \n",
      "Enter 'yes' if you (X-man) want to start the game or 'no' for me (Odinateur) to start it.\n",
      "Yes or No:no\n",
      "   |   |  \n",
      "   |   |  \n",
      "   |   |  \n",
      "Odinateur placed an 'O' in position 0 :\n",
      " O |   |  \n",
      "   |   |  \n",
      "   |   |  \n",
      "Select a number of you choice and that will be your block: 'X' (0-8): 1\n",
      "X-man placed an 'X' in position 1 :\n",
      " O | X |  \n",
      "   |   |  \n",
      "   |   |  \n",
      "Odinateur placed an 'O' in position 2 :\n",
      " O | X | O\n",
      "   |   |  \n",
      "   |   |  \n",
      "Select a number of you choice and that will be your block: 'X' (0-8): 4\n",
      "X-man placed an 'X' in position 4 :\n",
      " O | X | O\n",
      "   | X |  \n",
      "   |   |  \n",
      "Odinateur placed an 'O' in position 7 :\n",
      " O | X | O\n",
      "   | X |  \n",
      "   | O |  \n",
      "Select a number of you choice and that will be your block: 'X' (0-8): 3\n",
      "X-man placed an 'X' in position 3 :\n",
      " O | X | O\n",
      " X | X |  \n",
      "   | O |  \n",
      "Odinateur placed an 'O' in position 5 :\n",
      " O | X | O\n",
      " X | X | O\n",
      "   | O |  \n",
      "Select a number of you choice and that will be your block: 'X' (0-8): 8\n",
      "X-man placed an 'X' in position 8 :\n",
      " O | X | O\n",
      " X | X | O\n",
      "   | O | X\n",
      "Odinateur placed an 'O' in position 6 :\n",
      " O | X | O\n",
      " X | X | O\n",
      " O | O | X\n",
      "Tie Game!\n",
      "Do you want to play again? (Y/N)n\n"
     ]
    }
   ],
   "source": [
    "# -*- coding: utf-8 -*-\n",
    "\"\"\"\n",
    "Created on Wed Feb 23 10:22:57 2022\n",
    "\n",
    "@author: fan.z\n",
    "\"\"\"\n",
    "import os\n",
    "import random\n",
    "\n",
    "#Tic Tac Toe game in python: Odinateur vs Xman\n",
    "\n",
    "board = [' ' for x in range(9)]\n",
    "\n",
    "def print_board(board):\n",
    "    print(' ' + board[0] + ' | ' + board[1] + ' | ' + board[2])\n",
    "    print(' ' + board[3] + ' | ' + board[4] + ' | ' + board[5])\n",
    "    print(' ' + board[6] + ' | ' + board[7] + ' | ' + board[8])\n",
    "\n",
    "# clear screen\n",
    "clear = lambda: os.system('cls')\n",
    "\n",
    "def insert_letter(letter, pos): # X or O\n",
    "    board[pos] = letter\n",
    "\n",
    "def is_space_free(pos): # check if \n",
    "    return board[pos] == ' '\n",
    "    #return board[pos] == pos\n",
    "\n",
    "def is_board_full(board):\n",
    "    return False if board.count(' ') > 0 else True\n",
    "\n",
    "def is_winner(b, l): #b: board; l: letter (X, O)\n",
    "    return (b[0] == l and b[1] == l and b[2] == l) or \\\n",
    "           (b[3] == l and b[4] == l and b[5] == l) or \\\n",
    "           (b[6] == l and b[7] == l and b[8] == l) or \\\n",
    "           (b[0] == l and b[3] == l and b[6] == l) or \\\n",
    "           (b[1] == l and b[4] == l and b[7] == l) or \\\n",
    "           (b[2] == l and b[5] == l and b[8] == l) or \\\n",
    "           (b[0] == l and b[4] == l and b[8] == l) or \\\n",
    "           (b[2] == l and b[4] == l and b[6] == l)\n",
    " \n",
    "# for Xman \n",
    "'''\n",
    "def xman_move():\n",
    "    run = True\n",
    "    while run:\n",
    "        move = input(\"Select a number of you choice and that will be your block: \\'X\\' (0-8): \")\n",
    "        try:\n",
    "            move = int(move)\n",
    "            if move >= 0 and move <= 8:\n",
    "                if is_space_free(move):\n",
    "                    run = False\n",
    "                    insert_letter('X', move)\n",
    "                else:\n",
    "                    print(\"Choose another block, it's been taken!\")\n",
    "            else:\n",
    "                print('Please type a number within the range(0-8)!')\n",
    "        except:\n",
    "            print('Please type a number(0-8)!')\n",
    "        \n",
    "'''\n",
    "def xman_move():\n",
    "    move =9 # 9 is returned if board is full\n",
    "    if not is_board_full(board):\n",
    "        run = True\n",
    "        while run:\n",
    "            move = input(\"Select a number of you choice and that will be your block: \\'X\\' (0-8): \")\n",
    "            try:\n",
    "                move = int(move)\n",
    "                if 0 <= move <= 8:\n",
    "                    if is_space_free(move):\n",
    "                        run = False\n",
    "                        #insert_letter('X', move)\n",
    "                    else:\n",
    "                        print(\"Choose another block, it's been taken!\")\n",
    "                else:\n",
    "                    print('Please type a number within the range(0-8)!')\n",
    "            except:\n",
    "                print('Please type a number(0-8)!')\n",
    "    return move\n",
    "    \n",
    "# for Odinateur \n",
    "def select_random(lst):\n",
    "    n = random.randrange(0,len(lst))\n",
    "    return lst[n]\n",
    "\n",
    "def ordi_move():\n",
    "    #possible_moves = [x for x, letter in enumerate(board) if letter == ' ' and x != 0]\n",
    "    #find index of the ' ' in the borad list\n",
    "    possible_moves = [i for i, letter in enumerate(board) if letter == ' ']\n",
    "\n",
    "    move = 9 # 9 is not a valide move, 9 returned if board is full\n",
    "    # find the wining move \n",
    "    for letter in ['O', 'X']:\n",
    "        for i in possible_moves:\n",
    "            board_copy = board[:]\n",
    "            board_copy[i] = letter\n",
    "            if is_winner(board_copy, letter):\n",
    "                move = i\n",
    "                return move\n",
    "            \n",
    "    #if four corners 0,2,6,8 are open, do the corner move.\n",
    "    corners_open = []\n",
    "    for i in possible_moves:\n",
    "        if i in [0,2,6,8]:\n",
    "            corners_open.append(i)\n",
    "    if len(corners_open) > 0:\n",
    "        move = select_random(corners_open)\n",
    "        return move\n",
    "    \n",
    "    #centre move \n",
    "    if 4 in possible_moves:\n",
    "        move = 4\n",
    "        return move\n",
    "    \n",
    "    #four edges 1,3,5,7 move\n",
    "    edges_open = []\n",
    "    for i in possible_moves:\n",
    "        if i in [1,3,5,7]:\n",
    "            edges_open.append(i)\n",
    "    if len(edges_open) > 0:\n",
    "        move = select_random(edges_open)\n",
    "        return move\n",
    "\n",
    "# game on\n",
    "\n",
    "# def is_board_full(board):\n",
    "#     if board.count(' ') > 1:\n",
    "#         return False\n",
    "#     else:\n",
    "#         return True\n",
    "\n",
    "def game_on():\n",
    "    print('Welcome to Tic Tac Toe!', \"\\nEnter 'yes' if you (X-man) want to start the game or 'no' for me (Odinateur) to start it.\" )\n",
    "    start = input(\"Yes or No:\")\n",
    "    print_board(board)\n",
    "    \n",
    "    if start.lower() == 'yes'  or start.lower == 'y':  # X-man goes first\n",
    "        while not(is_board_full(board)):\n",
    "            if not(is_winner(board, 'O')):  # X-man goes first\n",
    "                move = xman_move()\n",
    "                if move == 9:\n",
    "                    print('Tie Game!')\n",
    "                else:\n",
    "                    insert_letter('X', move)\n",
    "                    print('X-man placed an \\'X\\' in position', move , ':')\n",
    "                    print_board(board)\n",
    "            else:\n",
    "                print('Sorry, Odinateur won this time!')\n",
    "                break\n",
    "                \n",
    "            # then Odinateur's turn\n",
    "            if is_board_full(board):\n",
    "                print('Tie Game!')\n",
    "                break\n",
    "            if not(is_winner(board, 'X')): # then Odinateur's turn\n",
    "                move = ordi_move()\n",
    "                #print('aloha!!!',move)\n",
    "                if move == 9:\n",
    "                    print('Tie Game!')\n",
    "                else:\n",
    "                    insert_letter('O', move)\n",
    "                    print('Odinateur placed an \\'O\\' in position', move , ':')\n",
    "                    print_board(board)\n",
    "            else:\n",
    "                print('X-mans won this time! Good Job!')\n",
    "                break\n",
    "                \n",
    "    elif start.lower() == 'no' or start.lower == 'n': # Odinateur goes first\n",
    "        while not(is_board_full(board)):\n",
    "            if not(is_winner(board, 'X')): # Odinateur goes first\n",
    "                move = ordi_move()\n",
    "                if move == 9:\n",
    "                    print('Tie Game!')\n",
    "                else:\n",
    "                    insert_letter('O', move)\n",
    "                    print('Odinateur placed an \\'O\\' in position', move , ':')\n",
    "                    print_board(board)\n",
    "            else:\n",
    "                print('X-man won this time! Good Job!')\n",
    "                break\n",
    "            # then X-man's trun    \n",
    "            if is_board_full(board):\n",
    "                print('Tie Game!')\n",
    "                break \n",
    "            if not(is_winner(board, 'O')): # then X-man's trun\n",
    "                move = xman_move()\n",
    "                if move == 9:\n",
    "                    print('Tie Game!')\n",
    "                else:\n",
    "                    insert_letter('X', move)\n",
    "                    print('X-man placed an \\'X\\' in position', move , ':')\n",
    "                    print_board(board)\n",
    "            else:\n",
    "                print('Sorry, Odinateur won this time!')\n",
    "                break\n",
    "    else:\n",
    "        print(\"\\nWrong input !!!\")\n",
    "        \n",
    "#     if is_board_full(board):\n",
    "#         print('Tie Game!')\n",
    "        \n",
    "# Game On ======================================================================\n",
    "print('''\n",
    "Congratulations on reaching this far. You deserve a treat now! You deserve to play a game, but it is not that simple!! In order to have a fun time playing the game, you need to create one!!! Let's creat Tic-Tac-Toe.\n",
    "\n",
    "0|1|2\n",
    "3|4|5\n",
    "6|7|8\n",
    "\n",
    "We will see if you are able to win the game against me.\n",
    "\n",
    "Do not worry... I will help you. You will make you move by entering a number between 0 - 8. The number will represent the position on the playing board. The board may look similiar to one shown above. I challenge you to beat me!!!!\n",
    "''')  \n",
    "\n",
    "# loop for play or quit\n",
    "while True:\n",
    "    board = [' ' for i in range(9)]\n",
    "    print('-----------------------------------')\n",
    "    game_on()\n",
    "    answer = input('Do you want to play again? (Y/N)')\n",
    "    #clear()\n",
    "    if answer.lower() == 'n' or answer.lower == 'no':\n",
    "        break\n",
    "        "
   ]
  },
  {
   "cell_type": "code",
   "execution_count": null,
   "id": "cd9c263b",
   "metadata": {},
   "outputs": [],
   "source": []
  },
  {
   "cell_type": "code",
   "execution_count": 95,
   "id": "f44b415a",
   "metadata": {},
   "outputs": [
    {
     "name": "stdout",
     "output_type": "stream",
     "text": [
      "Hello, my age is 34\n"
     ]
    }
   ],
   "source": [
    "class Human:\n",
    "    def __init__(self, age):\n",
    "\n",
    "        self.age = age\n",
    "\n",
    "# Sample Method\n",
    "\n",
    "    def say(self):\n",
    "\n",
    "        print('Hello, my age is', self.age)\n",
    "\n",
    "h = Human(34)\n",
    "\n",
    "h.say()"
   ]
  },
  {
   "cell_type": "code",
   "execution_count": 4,
   "id": "c81db055",
   "metadata": {},
   "outputs": [
    {
     "name": "stdout",
     "output_type": "stream",
     "text": [
      "Total Lines 19\n"
     ]
    }
   ],
   "source": [
    "with open(\"car.json\", 'r') as fp:\n",
    "    for count, line in enumerate(fp):\n",
    "        pass\n",
    "print('Total Lines', count + 1)"
   ]
  },
  {
   "cell_type": "code",
   "execution_count": 3,
   "id": "910aa94b",
   "metadata": {},
   "outputs": [
    {
     "ename": "TypeError",
     "evalue": "unhashable type: 'list'",
     "output_type": "error",
     "traceback": [
      "\u001b[1;31m---------------------------------------------------------------------------\u001b[0m",
      "\u001b[1;31mTypeError\u001b[0m                                 Traceback (most recent call last)",
      "Input \u001b[1;32mIn [3]\u001b[0m, in \u001b[0;36m<module>\u001b[1;34m\u001b[0m\n\u001b[0;32m      1\u001b[0m \u001b[38;5;66;03m# set error\u001b[39;00m\n\u001b[1;32m----> 2\u001b[0m \u001b[38;5;28;43mset\u001b[39;49m\u001b[43m(\u001b[49m\u001b[43m[\u001b[49m\u001b[43m[\u001b[49m\u001b[38;5;241;43m1\u001b[39;49m\u001b[43m,\u001b[49m\u001b[38;5;241;43m2\u001b[39;49m\u001b[43m]\u001b[49m\u001b[43m,\u001b[49m\u001b[43m[\u001b[49m\u001b[38;5;241;43m3\u001b[39;49m\u001b[43m,\u001b[49m\u001b[38;5;241;43m4\u001b[39;49m\u001b[43m]\u001b[49m\u001b[43m]\u001b[49m\u001b[43m)\u001b[49m\n",
      "\u001b[1;31mTypeError\u001b[0m: unhashable type: 'list'"
     ]
    }
   ],
   "source": [
    "# set error\n",
    "set([[1,2],[3,4]])"
   ]
  },
  {
   "cell_type": "code",
   "execution_count": 5,
   "id": "d7f1ac20",
   "metadata": {},
   "outputs": [
    {
     "name": "stdout",
     "output_type": "stream",
     "text": [
      "sun mon\n"
     ]
    }
   ],
   "source": [
    "def testgen(index):\n",
    "\n",
    "    weekdays = ['sun','mon','tue','wed','thu','fri','sat']\n",
    "\n",
    "    yield weekdays[index]\n",
    "\n",
    "    yield weekdays[index+1]\n",
    "\n",
    "day = testgen(0)\n",
    "\n",
    "print(next(day), next(day))"
   ]
  },
  {
   "cell_type": "code",
   "execution_count": 6,
   "id": "c6aa6104",
   "metadata": {},
   "outputs": [
    {
     "name": "stdout",
     "output_type": "stream",
     "text": [
      "<generator object testgen at 0x000002BEA8312270>\n"
     ]
    }
   ],
   "source": [
    "print(day)"
   ]
  }
 ],
 "metadata": {
  "kernelspec": {
   "display_name": "Python 3 (ipykernel)",
   "language": "python",
   "name": "python3"
  },
  "language_info": {
   "codemirror_mode": {
    "name": "ipython",
    "version": 3
   },
   "file_extension": ".py",
   "mimetype": "text/x-python",
   "name": "python",
   "nbconvert_exporter": "python",
   "pygments_lexer": "ipython3",
   "version": "3.9.7"
  }
 },
 "nbformat": 4,
 "nbformat_minor": 5
}
