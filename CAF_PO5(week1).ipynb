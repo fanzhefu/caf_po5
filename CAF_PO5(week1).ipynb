{
 "cells": [
  {
   "cell_type": "raw",
   "id": "f79a97ba",
   "metadata": {},
   "source": [
    "PO5: Develop Software Tools\n",
    "\n",
    "What is OOP\n",
    "class, object\n",
    "abstraction,encapsulation, inheritance, polymorphism\n",
    "\n",
    "#Java (james gosling 1995)\n",
    "removed c++'s explicit pointers, operator overloading. \n",
    "*exception handling: cannot access memory directly\n",
    "\n",
    "htps://repl.it\n",
    "Main.java\n",
    "class Main {\n",
    "  public static void main(String[] args) {\n",
    "    System.out.println(\"Hello world!\");\n",
    "  }\n",
    "}\n",
    "\n",
    "#Python (Guido van Rossum early 1990s, Monty Python)\n",
    "https://realpython.com\n",
    "print(\"Hello world!\")\n"
   ]
  },
  {
   "cell_type": "code",
   "execution_count": 3,
   "id": "7bca7fd4",
   "metadata": {},
   "outputs": [
    {
     "name": "stdout",
     "output_type": "stream",
     "text": [
      "My name is: Zhefu\n",
      "My birth month is: June\n"
     ]
    }
   ],
   "source": [
    "name =\"Zhefu\"\n",
    "birth_month = \"June\"\n",
    "print(\"My name is: {}\".format(name))\n",
    "print(\"My birth month is: {}\".format(birth_month))"
   ]
  },
  {
   "cell_type": "code",
   "execution_count": 4,
   "id": "85fc3d71",
   "metadata": {},
   "outputs": [
    {
     "name": "stdout",
     "output_type": "stream",
     "text": [
      "My favorite movie is: My Favorite Movie\n"
     ]
    }
   ],
   "source": [
    "favorite_movie=\"My Favorite Movie\"\n",
    "print(\"My favorite movie is: {}\".format(favorite_movie))"
   ]
  },
  {
   "cell_type": "code",
   "execution_count": 10,
   "id": "86d1a1f1",
   "metadata": {},
   "outputs": [
    {
     "name": "stdout",
     "output_type": "stream",
     "text": [
      "My least favorite food is:\n",
      "Delicious Favorite Yummy "
     ]
    }
   ],
   "source": [
    "least_favorite_foods=['Delicious', 'Favorite', 'Yummy']\n",
    "print(\"My least favorite food is:\") \n",
    "for item in least_favorite_foods:\n",
    "    print(item, end=' ')"
   ]
  },
  {
   "cell_type": "code",
   "execution_count": 22,
   "id": "96957ab4",
   "metadata": {},
   "outputs": [
    {
     "name": "stdout",
     "output_type": "stream",
     "text": [
      "Hi, what's your name?:Zhefu\n",
      "My name is: Zhefu\n",
      "Nice to meet you Zhefu\n"
     ]
    }
   ],
   "source": [
    "greet = input(\"Hi, what's your name?:\")\n",
    "\n",
    "print(\"My name is: {}\".format(greet))\n",
    "print(\"Nice to meet you\", greet)"
   ]
  },
  {
   "cell_type": "code",
   "execution_count": 26,
   "id": "6cc663d7",
   "metadata": {},
   "outputs": [
    {
     "name": "stdout",
     "output_type": "stream",
     "text": [
      "Money spent on buying shoes:10\n",
      "Money spent on buying food:20\n",
      "Money spent on buying clothes:30\n",
      "Total amount I spent today: $60.0\n"
     ]
    }
   ],
   "source": [
    "shoes = float(input(\"Money spent on buying shoes:\"))\n",
    "food = float(input(\"Money spent on buying food:\"))\n",
    "clothes = float(input(\"Money spent on buying clothes:\"))\n",
    "\n",
    "total = shoes + food + clothes\n",
    "\n",
    "print(\"Total amount I spent today: ${}\".format(total))"
   ]
  },
  {
   "cell_type": "markdown",
   "id": "275c543a",
   "metadata": {},
   "source": [
    "1. write a program where you enter two float numbers and then perform the following function on them: addition, substraction, multiplication, division, modulus\n",
    "2. write a program to calculate the area of a rectangle\n",
    "3. write a program to enter the months in a year. and the print your favorite month out of them all\n",
    "4. write a program to find the area of a square\n",
    "5 write a program to enter 3 types of pets that you like. mention one specific qulity that you like about them"
   ]
  },
  {
   "cell_type": "code",
   "execution_count": 40,
   "id": "0dfcb5f1",
   "metadata": {},
   "outputs": [
    {
     "name": "stdout",
     "output_type": "stream",
     "text": [
      "please enter number1: 2\n",
      "please enter number2: 3\n",
      "number1 + number2 = 5.0\n",
      "number1 - number2 = -1.0\n",
      "number1 * number2 = 6.0\n",
      "number1 / number2 = 0.6666666666666666\n",
      "number1 % number2 = 2.0\n"
     ]
    }
   ],
   "source": [
    "num1 = float(input('please enter first number: '))\n",
    "num2 = float(input('please enter second number: '))\n",
    "print(\"number1 + number2 =\", num1+num2)\n",
    "print(\"number1 - number2 =\", num1-num2)\n",
    "print(\"number1 * number2 =\", num1*num2)\n",
    "print(\"number1 / number2 =\", num1/num2)\n",
    "print(\"number1 % number2 =\", num1%num2)"
   ]
  },
  {
   "cell_type": "code",
   "execution_count": 42,
   "id": "78d5c26e",
   "metadata": {},
   "outputs": [
    {
     "name": "stdout",
     "output_type": "stream",
     "text": [
      "please enter side A  of rectangle:1\n",
      "please enter side B  of rectangle:2\n",
      "The area of rectangle is: 2.0\n"
     ]
    }
   ],
   "source": [
    "side_a = float(input('please enter side A  of rectangle:'))\n",
    "side_b = float(input('please enter side B  of rectangle:'))\n",
    "print(\"The area of rectangle is:\", side_a*side_b)"
   ]
  },
  {
   "cell_type": "code",
   "execution_count": 44,
   "id": "567a774b",
   "metadata": {},
   "outputs": [
    {
     "name": "stdout",
     "output_type": "stream",
     "text": [
      "Enter 12 months of a year: jan fen mar apr may jun jul aug sep oct nov dec\n",
      "List of months:  ['jan', 'fen', 'mar', 'apr', 'may', 'jun', 'jul', 'aug', 'sep', 'oct', 'nov', 'dec']\n",
      "MY favorite month is: jan\n"
     ]
    }
   ],
   "source": [
    "months = list(input(\"Enter 12 months of a year: \").split())\n",
    "print(\"List of months: \", months)\n",
    "print(\"MY favorite month is:\", months[0])"
   ]
  },
  {
   "cell_type": "code",
   "execution_count": 39,
   "id": "6ba2a64c",
   "metadata": {},
   "outputs": [
    {
     "name": "stdout",
     "output_type": "stream",
     "text": [
      "please enter side of square:2\n",
      "The square of area is: 4.0\n"
     ]
    }
   ],
   "source": [
    "side= float(input('please enter side of square:'))\n",
    "print(\"The area of square is:\", side*side)"
   ]
  },
  {
   "cell_type": "code",
   "execution_count": 43,
   "id": "00b3a9cc",
   "metadata": {},
   "outputs": [
    {
     "name": "stdout",
     "output_type": "stream",
     "text": [
      "please enter first type of pet you like:dog\n",
      "please enter second type of pet you like:cat\n",
      "please enter tird type of pet you like:snake\n",
      "I like cat of three pets dog,cat,snake\n"
     ]
    }
   ],
   "source": [
    "pet1 = input('please enter first type of pet you like:')\n",
    "pet2 = input('please enter second type of pet you like:')\n",
    "pet3 = input('please enter tird type of pet you like:')\n",
    "print(\"I like {} in the three type of pets {},{},{}\".format(pet2,pet1,pet2,pet3))"
   ]
  },
  {
   "cell_type": "markdown",
   "id": "8cdbdcb3",
   "metadata": {},
   "source": [
    "## Lesson 2 Statments\n",
    "- assignment statements: x= 1\n",
    "- conditional statements : if else elif\n",
    "- loop statements: for while\n",
    "### while loop - indefnite interation\n"
   ]
  },
  {
   "cell_type": "code",
   "execution_count": null,
   "id": "cbc6f47c",
   "metadata": {},
   "outputs": [],
   "source": [
    "# and or not\n",
    "# == != > < "
   ]
  },
  {
   "cell_type": "code",
   "execution_count": 46,
   "id": "51d27a5d",
   "metadata": {},
   "outputs": [
    {
     "name": "stdout",
     "output_type": "stream",
     "text": [
      "That's a lot of books!!!\n"
     ]
    }
   ],
   "source": [
    "books = 35\n",
    "if books == 35:\n",
    "    print(\"That's a lot of books!!!\")"
   ]
  },
  {
   "cell_type": "code",
   "execution_count": 49,
   "id": "737cf094",
   "metadata": {},
   "outputs": [],
   "source": [
    "favBook = \"Alchemist\"\n",
    "if favBook != \"Alchemist\":\n",
    "    print(\"That's not the correct book name\")"
   ]
  },
  {
   "cell_type": "code",
   "execution_count": 52,
   "id": "fe4ec4be",
   "metadata": {},
   "outputs": [
    {
     "name": "stdout",
     "output_type": "stream",
     "text": [
      "Enter your question numbers between 1 to 4 that you are doing 1\n",
      "Enter your question numbers between 1 to 4 that you are doing 3\n"
     ]
    }
   ],
   "source": [
    "#2 questions\n",
    "question1 = int(input(\"Enter your question numbers between 1 to 4 that you are doing \"))\n",
    "question2 = int(input(\"Enter your question numbers between 1 to 4 that you are doing \"))\n",
    "if (question1==1 and question2==2):\n",
    "    print(\"You selected question 1 and 2\")\n",
    "\n",
    "if (question1==3 and question2==4):\n",
    "    print(\"You selected question 3 and 4\")\n"
   ]
  },
  {
   "cell_type": "code",
   "execution_count": 55,
   "id": "ce473392",
   "metadata": {},
   "outputs": [
    {
     "name": "stdout",
     "output_type": "stream",
     "text": [
      "Enter 1st numbers  2\n",
      "Enter 2nd numbers  3\n",
      "second number is greater\n",
      "what is the time ?\n"
     ]
    }
   ],
   "source": [
    "#2 questions   \n",
    "a = int(input(\"Enter 1st numbers  \"))\n",
    "b = int(input(\"Enter 2nd numbers  \"))\n",
    "if (a>b):\n",
    "    print(\"first number is greater\")\n",
    "else:\n",
    "     print(\"second number is greater or two number are equle\")\n",
    "        "
   ]
  },
  {
   "cell_type": "code",
   "execution_count": 60,
   "id": "d2322183",
   "metadata": {},
   "outputs": [
    {
     "name": "stdout",
     "output_type": "stream",
     "text": [
      "Enter the age of 1st friend 20\n",
      "Enter the age of 2nd friend 20\n",
      "Enter the age of 3rd friend 20\n",
      "Enter the age of 4th friend 20\n",
      "Long way to go\n"
     ]
    }
   ],
   "source": [
    "age1 = int(input(\"Enter the age of 1st friend \"))\n",
    "age2 = int(input(\"Enter the age of 2nd friend \"))\n",
    "age3 = int(input(\"Enter the age of 3rd friend \"))\n",
    "age4 = int(input(\"Enter the age of 4th friend \"))\n",
    "sum = age1 + age2 + age3 + age4\n",
    "if (sum>100):\n",
    "    print(\"You crossed your Century\")\n",
    "else:\n",
    "     print(\"Long way to go\")\n",
    "        "
   ]
  },
  {
   "cell_type": "code",
   "execution_count": 63,
   "id": "249d27bf",
   "metadata": {},
   "outputs": [
    {
     "name": "stdout",
     "output_type": "stream",
     "text": [
      "Enter a numbers  11\n",
      "the number is greater that 10\n"
     ]
    }
   ],
   "source": [
    "num = int(input(\"Enter a numbers  \"))\n",
    "if (num>10):\n",
    "    print(\"the number is greater that 10\")\n",
    "if (num<10):\n",
    "     print(\"the number is less that 10\")"
   ]
  },
  {
   "cell_type": "code",
   "execution_count": 66,
   "id": "4e3cc92f",
   "metadata": {},
   "outputs": [
    {
     "name": "stdout",
     "output_type": "stream",
     "text": [
      "Enter a numbers  20\n",
      "This is something else\n"
     ]
    }
   ],
   "source": [
    "num20 = 20\n",
    "num = int(input(\"Enter a numbers  \"))\n",
    "if (num < num20):\n",
    "    print(\"this number is less than 20\")\n",
    "else:\n",
    "     print(\"This is something else\")"
   ]
  },
  {
   "cell_type": "code",
   "execution_count": 73,
   "id": "b3ff029e",
   "metadata": {},
   "outputs": [
    {
     "name": "stdout",
     "output_type": "stream",
     "text": [
      "Enter 1st numbers  3\n",
      "Enter 2nd numbers  2\n",
      "first number is greater\n"
     ]
    }
   ],
   "source": [
    "#1\n",
    "a = int(input(\"Enter the 1st numbers  \"))\n",
    "b = int(input(\"Enter the 2nd numbers  \"))\n",
    "if (a==b):\n",
    "    print(\"the wo numbers are equal\")\n",
    "elif (a>b):\n",
    "    print(\"first number is greater\")\n",
    "else:\n",
    "     print(\"second number is greater\")"
   ]
  },
  {
   "cell_type": "code",
   "execution_count": 75,
   "id": "1dc8d643",
   "metadata": {},
   "outputs": [
    {
     "name": "stdout",
     "output_type": "stream",
     "text": [
      "Enter the salary 100\n",
      "Enter the year 0f the service 2\n",
      "no bonus for you\n"
     ]
    }
   ],
   "source": [
    "#2 \n",
    "salary = int(input(\"Enter the salary \"))\n",
    "years_of_service = int(input(\"Enter the years 0f the service \"))\n",
    "\n",
    "if (years_of_service>4):\n",
    "    print(\"You got ${} bonus\".format(salary*.1))\n",
    "else:\n",
    "     print(\"no bonus for you\")\n",
    "        "
   ]
  },
  {
   "cell_type": "code",
   "execution_count": 84,
   "id": "45707695",
   "metadata": {},
   "outputs": [
    {
     "name": "stdout",
     "output_type": "stream",
     "text": [
      "Enter the number of your assignments 11\n"
     ]
    }
   ],
   "source": [
    "#3\n",
    "num = int(input(\"Enter the number of your assignments \"))\n",
    "if num <=2:\n",
    "    print(\"Fail\")\n",
    "elif num <=6:\n",
    "    print(\"Pass\")\n",
    "elif num <=9:\n",
    "    print(\"Excellent\")\n",
    "elif num ==10:\n",
    "    print(\"Passed with Distinction\")\n"
   ]
  },
  {
   "cell_type": "code",
   "execution_count": null,
   "id": "f723a7c2",
   "metadata": {},
   "outputs": [],
   "source": [
    "#4\n",
    "age = int(input(\"Enter your age \"))\n",
    "if age >= 18:\n",
    "    print(\" You are eligible to vote\")\n",
    "else:\n",
    "    print(\" You are not eligible to vote\")"
   ]
  },
  {
   "cell_type": "code",
   "execution_count": 92,
   "id": "f19b8b03",
   "metadata": {},
   "outputs": [
    {
     "name": "stdout",
     "output_type": "stream",
     "text": [
      "Enter a number 128\n",
      "the last digit of that number is divisible by 2\n"
     ]
    }
   ],
   "source": [
    "#5\n",
    "num = input(\"Enter a number \")\n",
    "if (int(num[-1])%2==0):\n",
    "    print(\"the last digit of that number is divisible by 2\")\n",
    "else:\n",
    "    print(\"the last digit of that number is not divisible by 2\")"
   ]
  },
  {
   "cell_type": "code",
   "execution_count": 98,
   "id": "42d96f06",
   "metadata": {},
   "outputs": [
    {
     "name": "stdout",
     "output_type": "stream",
     "text": [
      "Enter a number between 1 and 12 6\n",
      "June\n"
     ]
    }
   ],
   "source": [
    "#6\n",
    "month = ['January', 'February', 'March', 'April', 'May', 'June', 'July', 'August', 'September', 'October', 'November', 'December']\n",
    "num = int(input(\"Enter a number between 1 and 12 \"))\n",
    "if 1 <= num <= 12:\n",
    "    print(month[num-1])\n",
    "else:\n",
    "    print(\"You entered wrong number\")\n"
   ]
  },
  {
   "cell_type": "code",
   "execution_count": 114,
   "id": "a2b6843e",
   "metadata": {},
   "outputs": [
    {
     "name": "stdout",
     "output_type": "stream",
     "text": [
      "Enters two numbers and a comparison operator(seperated with space) 1 2 ==\n",
      "1 == 2 is False\n"
     ]
    }
   ],
   "source": [
    "# 7\n",
    "import operator\n",
    "ops = {\n",
    "    '<': operator.lt,\n",
    "    '<=': operator.le,\n",
    "    '==': operator.eq,\n",
    "    '!=': operator.ne,\n",
    "    '>+': operator.ge,\n",
    "    '>': operator.gt\n",
    "}\n",
    "\n",
    "user_input = input(\"Enters two numbers and a comparison operator(seperated with space) \")\n",
    "n1 = int(user_input.split()[0])\n",
    "n2 = int(user_input.split()[1])\n",
    "comp_op = user_input.split()[2]\n",
    "op = ops.get(comp_op)\n",
    "\n",
    "print('{} {} {}'.format(n1, comp_op, n2), 'is', op(n1,n2))\n"
   ]
  },
  {
   "cell_type": "code",
   "execution_count": 109,
   "id": "4c53a9b0",
   "metadata": {},
   "outputs": [
    {
     "name": "stdout",
     "output_type": "stream",
     "text": [
      "Enter the number of views: 100\n",
      "User paid:  200\n"
     ]
    }
   ],
   "source": [
    "# 8\n",
    "views = int(input(\"Enter the number of views: \"))\n",
    "if views <=10:\n",
    "    bill = 0\n",
    "elif views <= 30:\n",
    "    bill = (views-10)    \n",
    "elif views <= 60:\n",
    "    bill = 20 + (views-30)*2     \n",
    "else:\n",
    "    bill = 20 + 60 + (views-60)*3 \n",
    "    \n",
    "print(\"User pay: \", bill)"
   ]
  },
  {
   "cell_type": "markdown",
   "id": "97bf1695",
   "metadata": {},
   "source": [
    "## Lesson 3 loops\n",
    "while, for, break, continue, pass\n"
   ]
  },
  {
   "cell_type": "code",
   "execution_count": 149,
   "id": "671c7d5b",
   "metadata": {},
   "outputs": [
    {
     "name": "stdout",
     "output_type": "stream",
     "text": [
      "5\n",
      "4\n",
      "3\n",
      "2\n",
      "1\n",
      "Let's begin\n",
      "0\n"
     ]
    }
   ],
   "source": [
    "n = 5\n",
    "while n > 0 :\n",
    "    print(n)\n",
    "    n -= 1\n",
    "\n",
    "print(\"Let's begin\")\n",
    "print(n)"
   ]
  },
  {
   "cell_type": "code",
   "execution_count": 151,
   "id": "e58d5c7c",
   "metadata": {},
   "outputs": [
    {
     "name": "stdout",
     "output_type": "stream",
     "text": [
      "1\n",
      "2\n",
      "3\n",
      "4\n",
      "5\n",
      "I am done.\n",
      "6\n"
     ]
    }
   ],
   "source": [
    "n = 1\n",
    "while n <=5 :\n",
    "    print(n)\n",
    "    n += 1\n",
    "\n",
    "print(\"I am done.\")\n",
    "print(n)"
   ]
  },
  {
   "cell_type": "code",
   "execution_count": 182,
   "id": "c2382594",
   "metadata": {},
   "outputs": [
    {
     "name": "stdout",
     "output_type": "stream",
     "text": [
      "Here are the first 20 natual numbers:\n",
      "1 2 3 4 5 6 7 8 9 10 11 12 13 14 15 16 17 18 19 20 "
     ]
    }
   ],
   "source": [
    "#1. write a program that displays the first 20 natual numbers\n",
    "n = 1\n",
    "print(\"Here are the first 20 natual numbers:\")\n",
    "while n <=20 :\n",
    "    print(n, end=' ')\n",
    "    n += 1\n",
    "\n",
    "# print(n)"
   ]
  },
  {
   "cell_type": "code",
   "execution_count": 193,
   "id": "72d5b13b",
   "metadata": {},
   "outputs": [
    {
     "name": "stdout",
     "output_type": "stream",
     "text": [
      "1 2 3 4 5 6 7 8 9 10 11 12 13 14 15 16 17 18 19 20 21 22 23 24 25 26 27 28 29 30 \n",
      "The sum of first 30 natual nmbers: 465\n"
     ]
    }
   ],
   "source": [
    "#2. write a program to add first 30 natual nmbers\n",
    "n = 1\n",
    "sum = 0\n",
    "while n <=30 :\n",
    "    print(n, end=' ')\n",
    "    sum += n\n",
    "    n += 1\n",
    "\n",
    "print(\"\\nThe sum of first 30 natual nmbers:\", sum)\n"
   ]
  },
  {
   "cell_type": "code",
   "execution_count": 196,
   "id": "e20e2807",
   "metadata": {},
   "outputs": [
    {
     "name": "stdout",
     "output_type": "stream",
     "text": [
      "Enter the number 10\n",
      "2 4 6 8 10 12 14 16 18 20 \n",
      "The sum of 10 even numbers: 110\n"
     ]
    }
   ],
   "source": [
    "#3. write a program to print the sum of n even numbers entered by the user\n",
    "num = int(input(\"Enter the number \"))\n",
    "n = 1\n",
    "sum = 0\n",
    "while n <=num :\n",
    "    print(2*n, end=' ')\n",
    "    sum += 2*n\n",
    "    n += 1\n",
    "\n",
    "print(\"\\nThe sum of {} even numbers:\".format(num), sum)"
   ]
  },
  {
   "cell_type": "code",
   "execution_count": 197,
   "id": "4b1fd0eb",
   "metadata": {},
   "outputs": [
    {
     "name": "stdout",
     "output_type": "stream",
     "text": [
      "Enter the number 10\n",
      "1 3 5 7 9 11 13 15 17 19 \n",
      "The sum of 10 odd numbers: 100\n"
     ]
    }
   ],
   "source": [
    "#4. write a program to print the sum of n odd numbers entered by the user\n",
    "num = int(input(\"Enter the number \"))\n",
    "n = 1\n",
    "sum = 0\n",
    "while n <=num :\n",
    "    print(2*n-1, end=' ')\n",
    "    sum += 2*n-1\n",
    "    n += 1\n",
    "\n",
    "print(\"\\nThe sum of {} odd numbers:\".format(num), sum)"
   ]
  },
  {
   "cell_type": "code",
   "execution_count": 184,
   "id": "e3cf7f69",
   "metadata": {},
   "outputs": [
    {
     "name": "stdout",
     "output_type": "stream",
     "text": [
      "That is correct\n",
      "That is correct\n",
      "That is correct\n",
      "That is correct\n",
      "That is correct\n",
      "That is correct\n",
      "That is correct\n",
      "That is correct\n",
      "That is correct\n"
     ]
    },
    {
     "data": {
      "text/plain": [
       "'9 \"That is correct\" printed out'"
      ]
     },
     "execution_count": 184,
     "metadata": {},
     "output_type": "execute_result"
    }
   ],
   "source": [
    "#5. rewrite the following example and explain its output\n",
    "number =1\n",
    "while number<10:\n",
    "    print('That is correct')\n",
    "    number=number+1\n",
    "'''9 \"That is correct\" printed out'''"
   ]
  },
  {
   "cell_type": "markdown",
   "id": "11977efe",
   "metadata": {},
   "source": [
    "### for loop - defnite interation\n",
    "the number of repetition is specified before hand\n",
    "indefinite iteration: while loop, the block continue running untile condition met"
   ]
  },
  {
   "cell_type": "code",
   "execution_count": 204,
   "id": "258fccb7",
   "metadata": {},
   "outputs": [
    {
     "name": "stdout",
     "output_type": "stream",
     "text": [
      "0 1 2 3 4 5 "
     ]
    }
   ],
   "source": [
    "for x in range(6):\n",
    "    print(x, end=' ')"
   ]
  },
  {
   "cell_type": "code",
   "execution_count": 203,
   "id": "e4ab8f72",
   "metadata": {},
   "outputs": [
    {
     "name": "stdout",
     "output_type": "stream",
     "text": [
      "1 3 5 7 9 "
     ]
    }
   ],
   "source": [
    "for x in range(1,10,2):\n",
    "    print(x, end=' ')"
   ]
  },
  {
   "cell_type": "code",
   "execution_count": 202,
   "id": "130e2419",
   "metadata": {},
   "outputs": [
    {
     "name": "stdout",
     "output_type": "stream",
     "text": [
      "5 4 3 2 1 "
     ]
    }
   ],
   "source": [
    "for x in range(5,0,-1):\n",
    "    print(x, end=' ')"
   ]
  },
  {
   "cell_type": "code",
   "execution_count": 206,
   "id": "37118607",
   "metadata": {},
   "outputs": [
    {
     "name": "stdout",
     "output_type": "stream",
     "text": [
      "Stan Livia Rebecca Mark "
     ]
    }
   ],
   "source": [
    "names = ['Stan', 'Livia', 'Rebecca', 'Mark']\n",
    "for x in names:\n",
    "    print(x, end=' ')"
   ]
  },
  {
   "cell_type": "code",
   "execution_count": 212,
   "id": "b5bf1a6d",
   "metadata": {},
   "outputs": [
    {
     "name": "stdout",
     "output_type": "stream",
     "text": [
      "Apple Cake\n",
      "Apple Pie\n",
      "Apple Custard\n",
      "Orange Cake\n",
      "Orange Pie\n",
      "Orange Custard\n",
      "Banana Cake\n",
      "Banana Pie\n",
      "Banana Custard\n"
     ]
    }
   ],
   "source": [
    "fruits=['Apple','Orange','Banana']\n",
    "dessert=['Cake','Pie','Custard']\n",
    "\n",
    "for x in fruits:\n",
    "    for y in dessert:\n",
    "        print(x,y)"
   ]
  },
  {
   "cell_type": "code",
   "execution_count": 223,
   "id": "893dacd6",
   "metadata": {},
   "outputs": [
    {
     "name": "stdout",
     "output_type": "stream",
     "text": [
      "0 1 2 3 4 5 6 7 8 9 "
     ]
    }
   ],
   "source": [
    "#1. write a program to print the first 10 whole numbers\n",
    "\n",
    "for n in range(10):\n",
    "    print(n, end=' ')\n"
   ]
  },
  {
   "cell_type": "code",
   "execution_count": 215,
   "id": "640498d9",
   "metadata": {},
   "outputs": [
    {
     "name": "stdout",
     "output_type": "stream",
     "text": [
      "the sum of first 5 natural numbers 15\n"
     ]
    }
   ],
   "source": [
    "#2. write a program to print the sum of first 5 natural numbers\n",
    "sum = 0\n",
    "for n in range(5):\n",
    "    sum += n+1\n",
    "print('the sum of first 5 natural numbers', sum)"
   ]
  },
  {
   "cell_type": "code",
   "execution_count": 217,
   "id": "581094a9",
   "metadata": {},
   "outputs": [
    {
     "name": "stdout",
     "output_type": "stream",
     "text": [
      "Zhefu Zhefu Zhefu Zhefu Zhefu Zhefu Zhefu Zhefu Zhefu Zhefu Zhefu Zhefu Zhefu Zhefu Zhefu Zhefu Zhefu Zhefu Zhefu Zhefu Zhefu Zhefu Zhefu Zhefu Zhefu Zhefu Zhefu Zhefu Zhefu Zhefu Zhefu Zhefu Zhefu Zhefu Zhefu Zhefu Zhefu Zhefu Zhefu Zhefu Zhefu Zhefu Zhefu Zhefu Zhefu Zhefu Zhefu Zhefu Zhefu Zhefu "
     ]
    }
   ],
   "source": [
    "#3. write a program to print your name 50 times using a loop.\n",
    "name = \"Zhefu\"\n",
    "for n in range(50):\n",
    "    print(name, end=' ')\n"
   ]
  },
  {
   "cell_type": "code",
   "execution_count": 221,
   "id": "395cacbd",
   "metadata": {},
   "outputs": [
    {
     "name": "stdout",
     "output_type": "stream",
     "text": [
      "5 4 3 2 1 \n",
      "4 3 2 1 \n",
      "3 2 1 \n",
      "2 1 \n",
      "1 \n"
     ]
    }
   ],
   "source": [
    "#5. write a program to print the follwing pattern\n",
    "for x in range(5,0,-1):\n",
    "    for y in range(x,0,-1):\n",
    "        print(y, end=' ')\n",
    "    print()"
   ]
  },
  {
   "cell_type": "code",
   "execution_count": 222,
   "id": "97996e53",
   "metadata": {},
   "outputs": [
    {
     "name": "stdout",
     "output_type": "stream",
     "text": [
      "* * * * * \n",
      "* * * * \n",
      "* * * \n",
      "* * \n",
      "* \n"
     ]
    }
   ],
   "source": [
    "#6. write a program to print the follwing pattern\n",
    "for x in range(5,0,-1):\n",
    "    for y in range(x,0,-1):\n",
    "        print('*', end=' ')\n",
    "    print()"
   ]
  },
  {
   "cell_type": "code",
   "execution_count": 224,
   "id": "e0a8a9cb",
   "metadata": {},
   "outputs": [
    {
     "name": "stdout",
     "output_type": "stream",
     "text": [
      "Enter the first numer for the range10\n",
      "Enter the second numer for the range100\n",
      "11 13 17 19 23 29 31 37 41 43 47 53 59 61 67 71 73 79 83 89 97 "
     ]
    }
   ],
   "source": [
    "#7. Write a program where a user enters a range of numbers and all the prime numbers within that range are displayed\n",
    "#prime numbers 6k+1 and 6k-1\n",
    "def prime(n):\n",
    "    # 0, 1, even numbers greater than 2 are NOT PRIME\n",
    "    if n==1 or n==0 or (n % 2 == 0 and n > 2):\n",
    "        return False\n",
    "    else:\n",
    "        # Not prime if divisable by another number less\n",
    "        # or equal to the square root of itself.\n",
    "        # n**(1/2) returns square root of n\n",
    "        for i in range(3, int(n**(1/2))+1, 2):\n",
    "            if n%i == 0:\n",
    "                return False\n",
    "        return True\n",
    "    \n",
    "num1 = int(input('Enter the first numer for the range'))\n",
    "num2 = int(input('Enter the second numer for the range'))\n",
    "\n",
    "for n in range(num1,num2+1):\n",
    "    if prime(n):\n",
    "        print(n, end=' ')\n",
    "\n"
   ]
  },
  {
   "cell_type": "code",
   "execution_count": 228,
   "id": "19268c75",
   "metadata": {},
   "outputs": [
    {
     "name": "stdout",
     "output_type": "stream",
     "text": [
      "Enter the first numer for the range1\n",
      "Enter the second numer for the range30\n",
      "3 5 5 5 7 7 7 7 7 9 11 11 11 11 11 11 11 11 11 13 13 13 13 13 13 13 13 13 13 13 15 17 17 17 17 17 17 17 17 17 17 17 17 17 17 17 19 19 19 19 19 19 19 19 19 19 19 19 19 19 19 19 19 21 23 23 23 23 23 23 23 23 23 23 23 23 23 23 23 23 23 23 23 23 23 25 25 25 27 29 29 29 29 29 29 29 29 29 29 29 29 29 29 29 29 29 29 29 29 29 29 29 29 29 29 29 "
     ]
    }
   ],
   "source": [
    "num1 = int(input('Enter the first numer for the range'))\n",
    "num2 = int(input('Enter the second numer for the range'))\n",
    "for n in range(num1, num2):\n",
    "    if n >1:\n",
    "        for i in range(2,n):\n",
    "            if (n % i == 0):\n",
    "                break\n",
    "            else:\n",
    "                print(n, end=' ')"
   ]
  },
  {
   "cell_type": "code",
   "execution_count": 233,
   "id": "34635afb",
   "metadata": {},
   "outputs": [
    {
     "name": "stdout",
     "output_type": "stream",
     "text": [
      "Enter the numer 5\n",
      "the square of 1: 1\n",
      "the cube of 1: 1\n",
      "the square of 2: 4\n",
      "the cube of 2: 8\n",
      "the square of 3: 9\n",
      "the cube of 3: 27\n",
      "the square of 4: 16\n",
      "the cube of 4: 64\n",
      "the square of 5: 25\n",
      "the cube of 5: 125\n"
     ]
    }
   ],
   "source": [
    "#8. Write a program where a user calculates the square and cube of all the numbers.  You can create 2 separate programs for it or do it in the same file.\n",
    "\n",
    "num = int(input('Enter the numer '))\n",
    "\n",
    "for i in range(1, num+1):\n",
    "    print('the square of {}:'.format(i), i*i )\n",
    "    print('the cube of {}:'.format(i), i*i*i )\n"
   ]
  },
  {
   "cell_type": "code",
   "execution_count": 237,
   "id": "53b372eb",
   "metadata": {},
   "outputs": [
    {
     "name": "stdout",
     "output_type": "stream",
     "text": [
      "Enter the numer for wich you want to display the table:6\n",
      "6 * 1 = 6\n",
      "6 * 2 = 12\n",
      "6 * 3 = 18\n",
      "6 * 4 = 24\n",
      "6 * 5 = 30\n",
      "6 * 6 = 36\n",
      "6 * 7 = 42\n",
      "6 * 8 = 48\n",
      "6 * 9 = 54\n",
      "6 * 10 = 60\n"
     ]
    }
   ],
   "source": [
    "#9. Write a program to print the table of a number\n",
    "\n",
    "num = int(input('Enter the numer for which you want to display the table:'))\n",
    "\n",
    "for i in range(1,11):\n",
    "    print('{} * {} ='.format(num, i), num * i)"
   ]
  },
  {
   "cell_type": "code",
   "execution_count": 240,
   "id": "2d81a356",
   "metadata": {},
   "outputs": [
    {
     "name": "stdout",
     "output_type": "stream",
     "text": [
      "Enter a numer for wich you want to count the digits:9999999999\n",
      "10\n"
     ]
    }
   ],
   "source": [
    "#10. Write a program to count the total number of digits in a number\n",
    "\n",
    "num = input('Enter a numer for wich you want to count the digits:')\n",
    "\n",
    "c = 0\n",
    "for n in num:\n",
    "    c +=1\n",
    "\n",
    "print(c)\n"
   ]
  },
  {
   "cell_type": "markdown",
   "id": "e81e301a",
   "metadata": {},
   "source": [
    "### Break Continue Pass"
   ]
  },
  {
   "cell_type": "code",
   "execution_count": 247,
   "id": "626e02df",
   "metadata": {},
   "outputs": [
    {
     "name": "stdout",
     "output_type": "stream",
     "text": [
      "1 2 3 5 6 7 8 9 10 Thanks\n"
     ]
    }
   ],
   "source": [
    "for n in range(1,11):\n",
    "    if n ==4:\n",
    "        #break\n",
    "         continue  #skipped 4\n",
    "        #pass\n",
    "    print(n, end=' ')\n",
    "print(\"Thanks\")"
   ]
  },
  {
   "cell_type": "code",
   "execution_count": 292,
   "id": "b0cc51ff",
   "metadata": {},
   "outputs": [
    {
     "name": "stdout",
     "output_type": "stream",
     "text": [
      "Enter a string with letter \"n\":thanks\n",
      "tha\n",
      "thaks\n",
      "thanks"
     ]
    }
   ],
   "source": [
    "#Write a program where a user enters a string.  On encountering the letter \"n\", use the following statements (create 3 different codes for this example:\n",
    "#1 Break; 2 Continue; 3 Pass\n",
    "\n",
    "string = input('Enter a string with letter \"n\":')\n",
    "\n",
    "for s in string:\n",
    "    if s == 'n':\n",
    "        break\n",
    "    print(s, end='')\n",
    "print()\n",
    "\n",
    "for s in string:\n",
    "    if s == 'n':\n",
    "         continue  #skipped 4\n",
    "    print(s, end='')\n",
    "print()\n",
    "\n",
    "for s in string:\n",
    "    if s == 'n':\n",
    "        pass\n",
    "    print(s, end='')\n"
   ]
  },
  {
   "cell_type": "markdown",
   "id": "0b07cf33",
   "metadata": {},
   "source": [
    "## Lesson 4 function\n",
    "parameter vs argument\n",
    "variables written inside the parantheses while defining a function\n",
    "values sent to the function when a function is being called"
   ]
  },
  {
   "cell_type": "code",
   "execution_count": 293,
   "id": "b1c66a20",
   "metadata": {},
   "outputs": [
    {
     "name": "stdout",
     "output_type": "stream",
     "text": [
      "Greetings to you!\n"
     ]
    }
   ],
   "source": [
    "def welcome():\n",
    "    print(\"Greetings to you!\")\n",
    "\n",
    "welcome()"
   ]
  },
  {
   "cell_type": "code",
   "execution_count": 295,
   "id": "fd7a891c",
   "metadata": {},
   "outputs": [
    {
     "name": "stdout",
     "output_type": "stream",
     "text": [
      "It seems to be a very cold day today\n",
      "Do not forget to wear your sweater\n",
      "\n",
      "Could you please repeat it again \n",
      "\n",
      "It seems to be a very cold day today\n",
      "Do not forget to wear your sweater\n"
     ]
    }
   ],
   "source": [
    "def coldday():\n",
    "    print(\"It seems to be a very cold day today\")\n",
    "    print(\"Do not forget to wear your sweater\")\n",
    "\n",
    "coldday()\n",
    "print()\n",
    "print(\"Could you please repeat it again \")\n",
    "print()\n",
    "coldday()"
   ]
  },
  {
   "cell_type": "code",
   "execution_count": 296,
   "id": "54cec9c0",
   "metadata": {},
   "outputs": [
    {
     "name": "stdout",
     "output_type": "stream",
     "text": [
      "30 50 40\n"
     ]
    }
   ],
   "source": [
    "def numadd(a,b,c):\n",
    "    d=a+b\n",
    "    e=b+c\n",
    "    f=c+a\n",
    "    print(d,e,f)\n",
    "numadd(10,20,30)"
   ]
  },
  {
   "cell_type": "code",
   "execution_count": 298,
   "id": "87525058",
   "metadata": {},
   "outputs": [
    {
     "name": "stdout",
     "output_type": "stream",
     "text": [
      "45\n"
     ]
    }
   ],
   "source": [
    "#1 write a python function to find the minimum out of the three numbers entered.\n",
    "\n",
    "def min_num(a,b,c):\n",
    "    n=a\n",
    "    if b>n:\n",
    "        n=b\n",
    "    if c>n:\n",
    "        n=c\n",
    "    return n\n",
    "\n",
    "print(min_num(23,45,-67))\n"
   ]
  },
  {
   "cell_type": "code",
   "execution_count": 304,
   "id": "099fc9f7",
   "metadata": {},
   "outputs": [
    {
     "name": "stdout",
     "output_type": "stream",
     "text": [
      "Enter a string: fan zhefu fan\n",
      "The reversed string: naf ufehz naf\n"
     ]
    }
   ],
   "source": [
    "#2 write a python function where you enter a string of your choice, and you print the reverse of that string.\n",
    "\n",
    "def str_reverse(string):\n",
    "     return string[::-1]\n",
    "\n",
    "s = input(\"Enter a string: \")\n",
    "print(\"The reversed string:\", str_reverse(s))"
   ]
  },
  {
   "cell_type": "code",
   "execution_count": 7,
   "id": "628cabc2",
   "metadata": {},
   "outputs": [
    {
     "name": "stdout",
     "output_type": "stream",
     "text": [
      "Enter a string: qwertyuiop\n",
      "The reversed string: eiopqrtuwy\n"
     ]
    }
   ],
   "source": [
    "#3 write a python function where you enter a string of your choice, and a string that is sorted gets printed as an output.\n",
    "\n",
    "def str_sort(string):\n",
    "     return ''.join(sorted(string))\n",
    "\n",
    "s = input(\"Enter a string: \")\n",
    "print(\"The reversed string:\", str_sort(s))\n",
    "\n"
   ]
  },
  {
   "cell_type": "code",
   "execution_count": 5,
   "id": "cff97127",
   "metadata": {},
   "outputs": [
    {
     "name": "stdout",
     "output_type": "stream",
     "text": [
      "sum: 7, sub: -1, mul: 12, dev 0.75 of 3,4\n"
     ]
    }
   ],
   "source": [
    "#1. Define a function that accepts 2 values and return its\n",
    "\n",
    "def sum(x,y):\n",
    "    return (x+y)\n",
    "\n",
    "def sub(x,y):\n",
    "    return (x-y)\n",
    "\n",
    "def mul(x,y):\n",
    "    return (x*y)\n",
    "    \n",
    "def div(x,y):\n",
    "    return (x/y)\n",
    "\n",
    "print(\"sum: {}, sub: {}, mul: {}, dev {} of {},{}\".format(sum(3,4),sub(3,4),mul(3,4),div(3,4),3,4))"
   ]
  },
  {
   "cell_type": "code",
   "execution_count": 15,
   "id": "58c4b9ea",
   "metadata": {},
   "outputs": [
    {
     "name": "stdout",
     "output_type": "stream",
     "text": [
      "Enter a natural number: 25\n",
      "The factorial of 25 is : 15511210043330985984000000\n"
     ]
    }
   ],
   "source": [
    "# 2. Calculate the factorial of a number and define a function to print this answer\n",
    "\n",
    "def fac(n):\n",
    "    f = 1\n",
    "    for i in range(1,n+1):\n",
    "        f = f * i\n",
    "    return f\n",
    "\n",
    "while True:\n",
    "    n = int(input(\"Enter a natural number: \"))\n",
    "    if n>0:\n",
    "        break\n",
    "        \n",
    "print (\"The factorial of {} is : {}\".format(n,fac(n)))\n"
   ]
  },
  {
   "cell_type": "code",
   "execution_count": 25,
   "id": "2c3b3987",
   "metadata": {},
   "outputs": [
    {
     "name": "stdout",
     "output_type": "stream",
     "text": [
      "Enter a string: abcde\n",
      "the total number of vowels used in abcde: 2\n"
     ]
    }
   ],
   "source": [
    "# 3. Define a function that prints the total number of vowels used in a string\n",
    "\n",
    "def count_vowels(string):\n",
    "    count = 0\n",
    "    for s in string:\n",
    "        if s.lower() in 'aeiou':\n",
    "            count +=1\n",
    "    return count\n",
    "\n",
    "s = input(\"Enter a string: \")\n",
    "print(\"the total number of vowels used in {}: {}\".format(s, count_vowels(s)))"
   ]
  },
  {
   "cell_type": "code",
   "execution_count": 29,
   "id": "8e694edd",
   "metadata": {},
   "outputs": [
    {
     "name": "stdout",
     "output_type": "stream",
     "text": [
      "Enter a string: this is a test\n",
      "the total number of consonants used in this is a test: 7\n"
     ]
    }
   ],
   "source": [
    "# 4. Write a python function which counts the total number of  consonants in a word entered by the user.\n",
    "\n",
    "def count_consonants(string):\n",
    "    count = 0\n",
    "    for s in string:\n",
    "        if s.lower() in 'bcdfghjklmnpqrstvwxyz':\n",
    "            count +=1\n",
    "    return count\n",
    "\n",
    "s = input(\"Enter a string: \")\n",
    "print(\"the total number of consonants used in {}: {}\".format(s, count_consonants(s)))"
   ]
  },
  {
   "cell_type": "code",
   "execution_count": 47,
   "id": "2c9743e3",
   "metadata": {},
   "outputs": [
    {
     "name": "stdout",
     "output_type": "stream",
     "text": [
      "Enter a string: This is a TEST\n",
      "the lowercase of This is a TEST: this is a test\n"
     ]
    }
   ],
   "source": [
    "#5. Write a python function where you enter a string in uppercase and the output gets displayed in lowercase.\n",
    "\n",
    "def lowercase(string):\n",
    "    lower_str = ''\n",
    "    for s in string:\n",
    "        if 'A'<=s<='Z':\n",
    "            lower_str += chr(ord('a')+ord(s)-ord('A'))\n",
    "        else:\n",
    "            lower_str += s\n",
    "    return lower_str\n",
    "\n",
    "s = input(\"Enter a string: \")\n",
    "print(\"the lowercase of {}: {}\".format(s, lowercase(s)))\n"
   ]
  },
  {
   "cell_type": "markdown",
   "id": "cb98447e",
   "metadata": {},
   "source": [
    "## Lesson 5"
   ]
  },
  {
   "cell_type": "code",
   "execution_count": 78,
   "id": "5981bc47",
   "metadata": {},
   "outputs": [
    {
     "name": "stdout",
     "output_type": "stream",
     "text": [
      "2976315\n"
     ]
    }
   ],
   "source": [
    "#1 sum of multiples of 7 and 9 below 20, 7+9+14+18=48\n",
    "# below 5000 is 2976315\n",
    "num = 5000\n",
    "sum = 0\n",
    "\n",
    "for i in range(num):\n",
    "    if i%7==0 or i%9==0:\n",
    "        sum += i\n",
    "\n",
    "print(sum)\n",
    "\n"
   ]
  },
  {
   "cell_type": "code",
   "execution_count": null,
   "id": "8ef2171c",
   "metadata": {},
   "outputs": [],
   "source": [
    "#Part 2\n",
    "#Think of a pseudo code for this exercise\n",
    "#Steps for solving the code (Pseudo-code)\n",
    "\n",
    "#Initialize the starting values for the total sum, multiple of 7 and multiple of 9 stating value\n",
    "#Create the loop to assign the min and max range for the numbers ( hint > max range is 2000)\n",
    "#Depending if it is a multiple of 7 or 9, Increment or decrement accordingly so as to obtain the addition of the numbers x=x+1\n",
    "#Print the final sum \n",
    "#YOU CAN USE YOUR OWN WAY OF CREATING THE CODE \n",
    "\n",
    "\n",
    "\n"
   ]
  },
  {
   "cell_type": "raw",
   "id": "4ce86b45",
   "metadata": {},
   "source": [
    "# not work here but works on idle 3.9\n",
    "sum([i for i in range(5000) if i%7==0 or i%9==0])"
   ]
  },
  {
   "cell_type": "code",
   "execution_count": 89,
   "id": "4d69c113",
   "metadata": {},
   "outputs": [
    {
     "name": "stdout",
     "output_type": "stream",
     "text": [
      "the pythagorean triplet: 200 375 425\n",
      "the product of triplet: 31875000\n"
     ]
    }
   ],
   "source": [
    "#2 creating a pythagorean triplet 3,4,5; 5,12,13\n",
    "#there exists exactly one pythagorean triplet for which a+b+c=1000, find the product abc\n",
    "\n",
    "num = 1000\n",
    "for a in range(num//2):\n",
    "    for b in range(num//2):\n",
    "        c=num-a-b\n",
    "        if c>b>a:\n",
    "            if a**2+b**2==c**2:\n",
    "                print(\"the pythagorean triplet:\", a, b, c)\n",
    "                print(\"the product of triplet:\", a*b*c)\n"
   ]
  },
  {
   "cell_type": "code",
   "execution_count": 111,
   "id": "31d199ba",
   "metadata": {},
   "outputs": [
    {
     "name": "stdout",
     "output_type": "stream",
     "text": [
      "Enter a string: 12321\n",
      "True\n"
     ]
    }
   ],
   "source": [
    "#3 ever seen a palindrome\n",
    "\n",
    "def is_palindrome(string):\n",
    "    for i in range(len(string)//2):\n",
    "        if string[i].lower()!=string[len(string)-i-1].lower():\n",
    "            return False\n",
    "    return True\n",
    "\n",
    "string=input(\"Enter a string: \")\n",
    "print(is_palindrome(string))     "
   ]
  },
  {
   "cell_type": "code",
   "execution_count": 107,
   "id": "6713b342",
   "metadata": {},
   "outputs": [
    {
     "name": "stdout",
     "output_type": "stream",
     "text": [
      "Enter a string: 111\n",
      "True\n"
     ]
    }
   ],
   "source": [
    "def is_palindrome(string):   \n",
    "    if list(string.lower())!=list(reversed(string.lower())):\n",
    "        return False\n",
    "    else:\n",
    "        return True\n",
    "\n",
    "string=input(\"Enter a string: \")\n",
    "print(is_palindrome(string))   "
   ]
  },
  {
   "cell_type": "code",
   "execution_count": 110,
   "id": "38d38aa8",
   "metadata": {},
   "outputs": [
    {
     "name": "stdout",
     "output_type": "stream",
     "text": [
      "False\n"
     ]
    }
   ],
   "source": [
    "def  isPalindrome(s):\n",
    "   # Base case: The empty string is a palindrome. \n",
    "   # So is a string containing only 1 character.\n",
    "   if   len (s)    <=  1:\n",
    "      return True\n",
    "\n",
    "   # Recursive case: The string is a palindrome \n",
    "   # only if the first and last characters match, and\n",
    "   # the rest of the string is a palindrome\n",
    "   return  s[0] == s[len (s)  - 1] and \\\n",
    "              isPalindrome(s[1 : len (s) - 1])\n",
    "#s='1234321'\n",
    "s='Anna'\n",
    "print(isPalindrome(s))"
   ]
  },
  {
   "cell_type": "code",
   "execution_count": 123,
   "id": "5bcd128d",
   "metadata": {},
   "outputs": [
    {
     "name": "stdout",
     "output_type": "stream",
     "text": [
      "[('Spade', 10), ('Heart', 1), ('Spade', 2), ('Club', 3), ('Diamond', 2)]\n"
     ]
    }
   ],
   "source": [
    "#4 I like to play a game of cards\n",
    "#•Import itertools and random in the program. The itertools module generates every possibility of the range of cards for Spade, Diamond, Heart, and Club.\n",
    "#•The random module will shuffle these decks\n",
    "#•Make a list of cards\n",
    "#•In the program, we used the product() function in itertools module to create a deck of cards.  deck = list(itertools.product(range(1, 14), cards))\n",
    "#•Next we shuffle the deck\n",
    "#•After that we enter the number of cards that we want to display and depending on the number of cards we display the number and card shape\n",
    "\n",
    "import itertools\n",
    "import random\n",
    "\n",
    "cards=['Spade', 'Diamond', 'Heart', 'Club']\n",
    "deck = list(itertools.product(cards,range(1, 14)))\n",
    "random.shuffle(deck)\n",
    "\n",
    "num=5\n",
    "print(random.choices(deck, k=num))\n"
   ]
  },
  {
   "cell_type": "code",
   "execution_count": 16,
   "id": "561fb861",
   "metadata": {},
   "outputs": [
    {
     "name": "stdout",
     "output_type": "stream",
     "text": [
      "How many cards you want to display?: 5\n",
      "You got:\n",
      "8 of Club\n",
      "4 of Spade\n",
      "7 of Heart\n",
      "13 of Diamond\n",
      "4 of Club\n"
     ]
    }
   ],
   "source": [
    "import itertools, random\n",
    "cards = ['Spade', 'Heart', 'Diamond', 'Club']\n",
    "deck = list(itertools.product(range(1, 14), cards))\n",
    "random.shuffle(deck)\n",
    "\n",
    "no_cards = int(input(\"How many cards you want to display?: \"))\n",
    "print(\"You got:\")\n",
    "for i in range(no_cards):\n",
    "    print(deck[i][0], \"of\", deck[i][1])\n"
   ]
  },
  {
   "cell_type": "code",
   "execution_count": 126,
   "id": "2ff9cd7c",
   "metadata": {},
   "outputs": [
    {
     "name": "stdout",
     "output_type": "stream",
     "text": [
      "You guessed it!\n"
     ]
    }
   ],
   "source": [
    "#5 guess my favorite movie\n",
    "#Create a pseudo code for the following desired output:\n",
    "#Is your favorite movie: Conjuring\n",
    "#That is wrong\n",
    "#Is your favorite movie: Avatar\n",
    "#That is wrong\n",
    "#Is your favorite movie: The Stranger\n",
    "#You guessed it!\n",
    "\n",
    "favorite_movie = \"The Stranger\"\n",
    "\n",
    "if favorite_movie == \"Conjuring\":\n",
    "    print(\"That is wrong\") \n",
    "if favorite_movie == \"Avatar\":\n",
    "    print(\"That is wrong\") \n",
    "if favorite_movie == \"The Stranger\":\n",
    "    print(\"You guessed it!\") "
   ]
  },
  {
   "cell_type": "code",
   "execution_count": 14,
   "id": "66d1f110",
   "metadata": {},
   "outputs": [
    {
     "name": "stdout",
     "output_type": "stream",
     "text": [
      "Enter the movie: The Stranger\n",
      "You guessed it!\n"
     ]
    }
   ],
   "source": [
    "movie = \"The Stranger\"\n",
    "guess = input(\"Enter the movie: \")\n",
    "while movie != \"guess\":\n",
    "    if guess == movie:\n",
    "        print(\"You guessed it!\")\n",
    "        break\n",
    "    else:\n",
    "        print(\"that is wrong\")\n",
    "        guess = input(\"Enter the movie: \")\n"
   ]
  },
  {
   "cell_type": "raw",
   "id": "4a04427e",
   "metadata": {},
   "source": []
  }
 ],
 "metadata": {
  "kernelspec": {
   "display_name": "Python 3 (ipykernel)",
   "language": "python",
   "name": "python3"
  },
  "language_info": {
   "codemirror_mode": {
    "name": "ipython",
    "version": 3
   },
   "file_extension": ".py",
   "mimetype": "text/x-python",
   "name": "python",
   "nbconvert_exporter": "python",
   "pygments_lexer": "ipython3",
   "version": "3.9.7"
  }
 },
 "nbformat": 4,
 "nbformat_minor": 5
}
